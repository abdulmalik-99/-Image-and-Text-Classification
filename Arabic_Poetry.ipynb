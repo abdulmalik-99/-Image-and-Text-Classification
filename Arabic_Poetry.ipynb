{
 "cells": [
  {
   "attachments": {},
   "cell_type": "markdown",
   "metadata": {},
   "source": [
    "##  Arabic Poetry Classifier\n",
    "\n",
    "## 1. Introduction\n",
    "\n",
    "\n",
    "Arabic poetry is the oldest and most prominent form of Arabic literature today. Ancient Arabic poetry is probably the primary source for describing the social, political, and intellectual life in the Arab world. Modern poetry has gone through major changes and shifts, both in the form and in the topics. that led me to build an Arabic Poetry Classifier model.\n",
    "In this project, a classification model is built to classify Arabic poetry based on the poet's origin."
   ]
  },
  {
   "attachments": {},
   "cell_type": "markdown",
   "metadata": {},
   "source": [
    "## 2. Loading the Dataset \n",
    "The dataset contains around 11K sample of poems that extend from the 6th century to the present day. This dataset consist of 9 features and 11604 instance. In addition,it included 11594 poems of 591 poets.The total number of words was 1741848(before pre-processing)\n",
    "\n",
    "link: https://www.kaggle.com/datasets/fahd09/arabic-poetry-dataset-478-2017/code"
   ]
  },
  {
   "cell_type": "code",
   "execution_count": 1,
   "metadata": {},
   "outputs": [],
   "source": [
    "import pandas as pd \n",
    "import matplotlib.pyplot as plt\n",
    "plt.style.use('ggplot')\n",
    "import plotly.express as px\n",
    "import string\n",
    "import pyarabic.araby as araby\n",
    "import pyarabic.trans\n",
    "from pyarabic.araby import strip_tashkeel ,normalize_ligature\n",
    "import re \n",
    "from nltk.corpus import stopwords\n",
    "from nltk.stem import arlstem\n",
    "from nltk.stem.isri import ISRIStemmer\n",
    "from nltk.stem.arlstem2 import ARLSTem2\n",
    "\n",
    "\n",
    "\n",
    "\n",
    "import imblearn\n",
    "from imblearn.over_sampling import SMOTE\n",
    "from sklearn.feature_extraction.text import TfidfVectorizer\n",
    "from imblearn.pipeline import Pipeline as SMOTE_Pipeline\n",
    "from imblearn.over_sampling import SMOTE\n",
    "from sklearn.naive_bayes import MultinomialNB\n",
    "from sklearn.naive_bayes import GaussianNB\n",
    "from sklearn.ensemble import RandomForestClassifier\n",
    "from sklearn.model_selection import cross_val_score, train_test_split\n",
    "from sklearn.pipeline import Pipeline\n",
    "from sklearn import metrics\n",
    "from IPython.display import Image\n",
    "\n",
    "\n",
    "from sklearn.model_selection import train_test_split,GridSearchCV\n",
    "from sklearn.pipeline import make_pipeline\n",
    "from sklearn.linear_model import SGDClassifier\n",
    "from sklearn.metrics import  confusion_matrix, classification_report, accuracy_score, recall_score, precision_score\n"
   ]
  },
  {
   "cell_type": "markdown",
   "metadata": {},
   "source": []
  },
  {
   "cell_type": "code",
   "execution_count": 3,
   "metadata": {},
   "outputs": [],
   "source": [
    "df=pd.read_csv('all_poems.csv')"
   ]
  },
  {
   "attachments": {},
   "cell_type": "markdown",
   "metadata": {},
   "source": [
    "## Visual Assessment"
   ]
  },
  {
   "cell_type": "code",
   "execution_count": 4,
   "metadata": {},
   "outputs": [
    {
     "data": {
      "text/html": [
       "<div>\n",
       "<style scoped>\n",
       "    .dataframe tbody tr th:only-of-type {\n",
       "        vertical-align: middle;\n",
       "    }\n",
       "\n",
       "    .dataframe tbody tr th {\n",
       "        vertical-align: top;\n",
       "    }\n",
       "\n",
       "    .dataframe thead th {\n",
       "        text-align: right;\n",
       "    }\n",
       "</style>\n",
       "<table border=\"1\" class=\"dataframe\">\n",
       "  <thead>\n",
       "    <tr style=\"text-align: right;\">\n",
       "      <th></th>\n",
       "      <th>poem_id</th>\n",
       "      <th>poem_link</th>\n",
       "      <th>poem_style</th>\n",
       "      <th>poem_text</th>\n",
       "      <th>poem_title</th>\n",
       "      <th>poet_cat</th>\n",
       "      <th>poet_id</th>\n",
       "      <th>poet_link</th>\n",
       "      <th>poet_name</th>\n",
       "    </tr>\n",
       "  </thead>\n",
       "  <tbody>\n",
       "    <tr>\n",
       "      <th>30425</th>\n",
       "      <td>17178</td>\n",
       "      <td>http://www.adab.com/modules.php?name=Sh3er&amp;doW...</td>\n",
       "      <td>فصحى</td>\n",
       "      <td>علم وتحكيم وشيب مفارق طلسن ريعان الشباب الراء...</td>\n",
       "      <td>علمٌ وتحكيمٌ وشيبُ مفارقِ</td>\n",
       "      <td>العصر العباسي</td>\n",
       "      <td>248</td>\n",
       "      <td>http://www.adab.com/modules.php?name=Sh3er&amp;doW...</td>\n",
       "      <td>دعبل  الخزاعي</td>\n",
       "    </tr>\n",
       "    <tr>\n",
       "      <th>51681</th>\n",
       "      <td>80409</td>\n",
       "      <td>http://www.adab.com/modules.php?name=Sh3er&amp;doW...</td>\n",
       "      <td>فصحى</td>\n",
       "      <td>نفتح ابواب قلوبنا لهم فيدخلون مثل غيمات من الع...</td>\n",
       "      <td>ترميمُ قلوبنا الكسيرة</td>\n",
       "      <td>العراق</td>\n",
       "      <td>536</td>\n",
       "      <td>http://www.adab.com/modules.php?name=Sh3er&amp;doW...</td>\n",
       "      <td>ليث الصندوق</td>\n",
       "    </tr>\n",
       "    <tr>\n",
       "      <th>9691</th>\n",
       "      <td>55985</td>\n",
       "      <td>http://www.adab.com/modules.php?name=Sh3er&amp;doW...</td>\n",
       "      <td>فصحى</td>\n",
       "      <td>ناحت بني العيسي مصرع راحل كالرمح بات موسدا تح...</td>\n",
       "      <td>ناحت بني العيسي مصرع راحل</td>\n",
       "      <td>لبنان</td>\n",
       "      <td>152</td>\n",
       "      <td>http://www.adab.com/modules.php?name=Sh3er&amp;doW...</td>\n",
       "      <td>إبراهيم اليازجي</td>\n",
       "    </tr>\n",
       "    <tr>\n",
       "      <th>42961</th>\n",
       "      <td>80805</td>\n",
       "      <td>http://www.adab.com/modules.php?name=Sh3er&amp;doW...</td>\n",
       "      <td>فصحى</td>\n",
       "      <td>لو كان لي وطن , لو كان لي ناس ما صرت حرثا اذ ا...</td>\n",
       "      <td>غزة ليستْ أوّلا</td>\n",
       "      <td>مصر</td>\n",
       "      <td>411</td>\n",
       "      <td>http://www.adab.com/modules.php?name=Sh3er&amp;doW...</td>\n",
       "      <td>عبد الرحيم أحمد الصغير(الماسخ)</td>\n",
       "    </tr>\n",
       "    <tr>\n",
       "      <th>382</th>\n",
       "      <td>68284</td>\n",
       "      <td>http://www.adab.com/modules.php?name=Sh3er&amp;doW...</td>\n",
       "      <td>فصحى</td>\n",
       "      <td>عرفتك من عامين ينبوع طيبة وجها بسيطا كان وجهي ...</td>\n",
       "      <td>مرثاةُ قِطّة</td>\n",
       "      <td>سوريا</td>\n",
       "      <td>7</td>\n",
       "      <td>http://www.adab.com/modules.php?name=Sh3er&amp;doW...</td>\n",
       "      <td>نزار قباني</td>\n",
       "    </tr>\n",
       "  </tbody>\n",
       "</table>\n",
       "</div>"
      ],
      "text/plain": [
       "       poem_id                                          poem_link poem_style  \\\n",
       "30425    17178  http://www.adab.com/modules.php?name=Sh3er&doW...       فصحى   \n",
       "51681    80409  http://www.adab.com/modules.php?name=Sh3er&doW...       فصحى   \n",
       "9691     55985  http://www.adab.com/modules.php?name=Sh3er&doW...       فصحى   \n",
       "42961    80805  http://www.adab.com/modules.php?name=Sh3er&doW...       فصحى   \n",
       "382      68284  http://www.adab.com/modules.php?name=Sh3er&doW...       فصحى   \n",
       "\n",
       "                                               poem_text  \\\n",
       "30425   علم وتحكيم وشيب مفارق طلسن ريعان الشباب الراء...   \n",
       "51681  نفتح ابواب قلوبنا لهم فيدخلون مثل غيمات من الع...   \n",
       "9691    ناحت بني العيسي مصرع راحل كالرمح بات موسدا تح...   \n",
       "42961  لو كان لي وطن , لو كان لي ناس ما صرت حرثا اذ ا...   \n",
       "382    عرفتك من عامين ينبوع طيبة وجها بسيطا كان وجهي ...   \n",
       "\n",
       "                       poem_title       poet_cat  poet_id  \\\n",
       "30425  علمٌ وتحكيمٌ وشيبُ مفارقِ   العصر العباسي      248   \n",
       "51681      ترميمُ قلوبنا الكسيرة          العراق      536   \n",
       "9691   ناحت بني العيسي مصرع راحل           لبنان      152   \n",
       "42961            غزة ليستْ أوّلا             مصر      411   \n",
       "382                 مرثاةُ قِطّة           سوريا        7   \n",
       "\n",
       "                                               poet_link  \\\n",
       "30425  http://www.adab.com/modules.php?name=Sh3er&doW...   \n",
       "51681  http://www.adab.com/modules.php?name=Sh3er&doW...   \n",
       "9691   http://www.adab.com/modules.php?name=Sh3er&doW...   \n",
       "42961  http://www.adab.com/modules.php?name=Sh3er&doW...   \n",
       "382    http://www.adab.com/modules.php?name=Sh3er&doW...   \n",
       "\n",
       "                            poet_name  \n",
       "30425                   دعبل  الخزاعي  \n",
       "51681                     ليث الصندوق  \n",
       "9691                  إبراهيم اليازجي  \n",
       "42961  عبد الرحيم أحمد الصغير(الماسخ)  \n",
       "382                        نزار قباني  "
      ]
     },
     "execution_count": 4,
     "metadata": {},
     "output_type": "execute_result"
    }
   ],
   "source": [
    "df.sample(5)"
   ]
  },
  {
   "cell_type": "code",
   "execution_count": 5,
   "metadata": {},
   "outputs": [
    {
     "data": {
      "text/html": [
       "<div>\n",
       "<style scoped>\n",
       "    .dataframe tbody tr th:only-of-type {\n",
       "        vertical-align: middle;\n",
       "    }\n",
       "\n",
       "    .dataframe tbody tr th {\n",
       "        vertical-align: top;\n",
       "    }\n",
       "\n",
       "    .dataframe thead th {\n",
       "        text-align: right;\n",
       "    }\n",
       "</style>\n",
       "<table border=\"1\" class=\"dataframe\">\n",
       "  <thead>\n",
       "    <tr style=\"text-align: right;\">\n",
       "      <th></th>\n",
       "      <th>poem_id</th>\n",
       "      <th>poem_link</th>\n",
       "      <th>poem_style</th>\n",
       "      <th>poem_text</th>\n",
       "      <th>poem_title</th>\n",
       "      <th>poet_cat</th>\n",
       "      <th>poet_id</th>\n",
       "      <th>poet_link</th>\n",
       "      <th>poet_name</th>\n",
       "    </tr>\n",
       "  </thead>\n",
       "  <tbody>\n",
       "    <tr>\n",
       "      <th>58016</th>\n",
       "      <td>86613</td>\n",
       "      <td>http://www.adab.com/modules.php?name=Sh3er&amp;doW...</td>\n",
       "      <td>فصحى</td>\n",
       "      <td>لروح صهيل لا تحويه الاوقات ذنبك انك تمتد علي ا...</td>\n",
       "      <td>الوقت</td>\n",
       "      <td>سوريا</td>\n",
       "      <td>755</td>\n",
       "      <td>http://www.adab.com/modules.php?name=Sh3er&amp;doW...</td>\n",
       "      <td>عز الدين اليوسف</td>\n",
       "    </tr>\n",
       "    <tr>\n",
       "      <th>58017</th>\n",
       "      <td>86614</td>\n",
       "      <td>http://www.adab.com/modules.php?name=Sh3er&amp;doW...</td>\n",
       "      <td>فصحى</td>\n",
       "      <td>اه لو اني ابني الشمس بعيني من طين هواء وسراب م...</td>\n",
       "      <td>الفلاح</td>\n",
       "      <td>سوريا</td>\n",
       "      <td>755</td>\n",
       "      <td>http://www.adab.com/modules.php?name=Sh3er&amp;doW...</td>\n",
       "      <td>عز الدين اليوسف</td>\n",
       "    </tr>\n",
       "    <tr>\n",
       "      <th>58018</th>\n",
       "      <td>86615</td>\n",
       "      <td>http://www.adab.com/modules.php?name=Sh3er&amp;doW...</td>\n",
       "      <td>فصحى</td>\n",
       "      <td>في عينيك يا امي لماذا الدمع منتظم كعقد الءلء ا...</td>\n",
       "      <td>أمّي</td>\n",
       "      <td>سوريا</td>\n",
       "      <td>755</td>\n",
       "      <td>http://www.adab.com/modules.php?name=Sh3er&amp;doW...</td>\n",
       "      <td>عز الدين اليوسف</td>\n",
       "    </tr>\n",
       "    <tr>\n",
       "      <th>58019</th>\n",
       "      <td>86616</td>\n",
       "      <td>http://www.adab.com/modules.php?name=Sh3er&amp;doW...</td>\n",
       "      <td>فصحى</td>\n",
       "      <td>النوم يوقظ طرفي الظامي علي لحن تموج من بعيد ار...</td>\n",
       "      <td>عن اللحن</td>\n",
       "      <td>سوريا</td>\n",
       "      <td>755</td>\n",
       "      <td>http://www.adab.com/modules.php?name=Sh3er&amp;doW...</td>\n",
       "      <td>عز الدين اليوسف</td>\n",
       "    </tr>\n",
       "    <tr>\n",
       "      <th>58020</th>\n",
       "      <td>86617</td>\n",
       "      <td>http://www.adab.com/modules.php?name=Sh3er&amp;doW...</td>\n",
       "      <td>فصحى</td>\n",
       "      <td>السلم الذي نزلت فيه لسماء سلم من الجنان جاء او...</td>\n",
       "      <td>السلم</td>\n",
       "      <td>سوريا</td>\n",
       "      <td>755</td>\n",
       "      <td>http://www.adab.com/modules.php?name=Sh3er&amp;doW...</td>\n",
       "      <td>عز الدين اليوسف</td>\n",
       "    </tr>\n",
       "  </tbody>\n",
       "</table>\n",
       "</div>"
      ],
      "text/plain": [
       "       poem_id                                          poem_link poem_style  \\\n",
       "58016    86613  http://www.adab.com/modules.php?name=Sh3er&doW...       فصحى   \n",
       "58017    86614  http://www.adab.com/modules.php?name=Sh3er&doW...       فصحى   \n",
       "58018    86615  http://www.adab.com/modules.php?name=Sh3er&doW...       فصحى   \n",
       "58019    86616  http://www.adab.com/modules.php?name=Sh3er&doW...       فصحى   \n",
       "58020    86617  http://www.adab.com/modules.php?name=Sh3er&doW...       فصحى   \n",
       "\n",
       "                                               poem_text  poem_title poet_cat  \\\n",
       "58016  لروح صهيل لا تحويه الاوقات ذنبك انك تمتد علي ا...      الوقت     سوريا   \n",
       "58017  اه لو اني ابني الشمس بعيني من طين هواء وسراب م...     الفلاح     سوريا   \n",
       "58018  في عينيك يا امي لماذا الدمع منتظم كعقد الءلء ا...       أمّي     سوريا   \n",
       "58019  النوم يوقظ طرفي الظامي علي لحن تموج من بعيد ار...  عن اللحن      سوريا   \n",
       "58020  السلم الذي نزلت فيه لسماء سلم من الجنان جاء او...      السلم     سوريا   \n",
       "\n",
       "       poet_id                                          poet_link  \\\n",
       "58016      755  http://www.adab.com/modules.php?name=Sh3er&doW...   \n",
       "58017      755  http://www.adab.com/modules.php?name=Sh3er&doW...   \n",
       "58018      755  http://www.adab.com/modules.php?name=Sh3er&doW...   \n",
       "58019      755  http://www.adab.com/modules.php?name=Sh3er&doW...   \n",
       "58020      755  http://www.adab.com/modules.php?name=Sh3er&doW...   \n",
       "\n",
       "             poet_name  \n",
       "58016  عز الدين اليوسف  \n",
       "58017  عز الدين اليوسف  \n",
       "58018  عز الدين اليوسف  \n",
       "58019  عز الدين اليوسف  \n",
       "58020  عز الدين اليوسف  "
      ]
     },
     "execution_count": 5,
     "metadata": {},
     "output_type": "execute_result"
    }
   ],
   "source": [
    "df.tail()"
   ]
  },
  {
   "attachments": {},
   "cell_type": "markdown",
   "metadata": {},
   "source": [
    "## Programticly  Assessment"
   ]
  },
  {
   "cell_type": "code",
   "execution_count": 8,
   "metadata": {},
   "outputs": [
    {
     "name": "stdout",
     "output_type": "stream",
     "text": [
      "<class 'pandas.core.frame.DataFrame'>\n",
      "RangeIndex: 58021 entries, 0 to 58020\n",
      "Data columns (total 9 columns):\n",
      " #   Column      Non-Null Count  Dtype \n",
      "---  ------      --------------  ----- \n",
      " 0   poem_id     58021 non-null  int64 \n",
      " 1   poem_link   58021 non-null  object\n",
      " 2   poem_style  58021 non-null  object\n",
      " 3   poem_text   58020 non-null  object\n",
      " 4   poem_title  58021 non-null  object\n",
      " 5   poet_cat    58021 non-null  object\n",
      " 6   poet_id     58021 non-null  int64 \n",
      " 7   poet_link   58021 non-null  object\n",
      " 8   poet_name   58021 non-null  object\n",
      "dtypes: int64(2), object(7)\n",
      "memory usage: 4.0+ MB\n"
     ]
    }
   ],
   "source": [
    "df.info()"
   ]
  },
  {
   "cell_type": "code",
   "execution_count": 9,
   "metadata": {},
   "outputs": [
    {
     "data": {
      "text/plain": [
       "poem_id       0\n",
       "poem_link     0\n",
       "poem_style    0\n",
       "poem_text     1\n",
       "poem_title    0\n",
       "poet_cat      0\n",
       "poet_id       0\n",
       "poet_link     0\n",
       "poet_name     0\n",
       "dtype: int64"
      ]
     },
     "execution_count": 9,
     "metadata": {},
     "output_type": "execute_result"
    }
   ],
   "source": [
    "df.isna().sum()"
   ]
  },
  {
   "cell_type": "code",
   "execution_count": 10,
   "metadata": {},
   "outputs": [
    {
     "data": {
      "text/plain": [
       "327"
      ]
     },
     "execution_count": 10,
     "metadata": {},
     "output_type": "execute_result"
    }
   ],
   "source": [
    "df.duplicated(subset=['poem_text']).sum()"
   ]
  },
  {
   "cell_type": "code",
   "execution_count": 100,
   "metadata": {},
   "outputs": [
    {
     "data": {
      "text/plain": [
       "0"
      ]
     },
     "execution_count": 100,
     "metadata": {},
     "output_type": "execute_result"
    }
   ],
   "source": [
    "df.duplicated(subset=['poem_link']).sum()"
   ]
  },
  {
   "cell_type": "code",
   "execution_count": 6,
   "metadata": {},
   "outputs": [
    {
     "data": {
      "text/html": [
       "<div>\n",
       "<style scoped>\n",
       "    .dataframe tbody tr th:only-of-type {\n",
       "        vertical-align: middle;\n",
       "    }\n",
       "\n",
       "    .dataframe tbody tr th {\n",
       "        vertical-align: top;\n",
       "    }\n",
       "\n",
       "    .dataframe thead th {\n",
       "        text-align: right;\n",
       "    }\n",
       "</style>\n",
       "<table border=\"1\" class=\"dataframe\">\n",
       "  <thead>\n",
       "    <tr style=\"text-align: right;\">\n",
       "      <th></th>\n",
       "      <th>poem_id</th>\n",
       "      <th>poem_link</th>\n",
       "      <th>poem_style</th>\n",
       "      <th>poem_text</th>\n",
       "      <th>poem_title</th>\n",
       "      <th>poet_cat</th>\n",
       "      <th>poet_id</th>\n",
       "      <th>poet_link</th>\n",
       "      <th>poet_name</th>\n",
       "    </tr>\n",
       "  </thead>\n",
       "  <tbody>\n",
       "    <tr>\n",
       "      <th>407</th>\n",
       "      <td>68884</td>\n",
       "      <td>http://www.adab.com/modules.php?name=Sh3er&amp;doW...</td>\n",
       "      <td>فصحى</td>\n",
       "      <td>ليس في وسعك يا سيدتي ان تصلحيني فلقد فات القطا...</td>\n",
       "      <td>تَشَبُّث</td>\n",
       "      <td>سوريا</td>\n",
       "      <td>7</td>\n",
       "      <td>http://www.adab.com/modules.php?name=Sh3er&amp;doW...</td>\n",
       "      <td>نزار قباني</td>\n",
       "    </tr>\n",
       "    <tr>\n",
       "      <th>636</th>\n",
       "      <td>68900</td>\n",
       "      <td>http://www.adab.com/modules.php?name=Sh3er&amp;doW...</td>\n",
       "      <td>فصحى</td>\n",
       "      <td>ليس في وسعك يا سيدتي ان تصلحيني فلقد فات القطا...</td>\n",
       "      <td>تصميم</td>\n",
       "      <td>سوريا</td>\n",
       "      <td>7</td>\n",
       "      <td>http://www.adab.com/modules.php?name=Sh3er&amp;doW...</td>\n",
       "      <td>نزار قباني</td>\n",
       "    </tr>\n",
       "    <tr>\n",
       "      <th>1365</th>\n",
       "      <td>67907</td>\n",
       "      <td>http://www.adab.com/modules.php?name=Sh3er&amp;doW...</td>\n",
       "      <td>فصحى</td>\n",
       "      <td>تلك المنازل كيف حال مقيمها انا قنعنا بعدها بر...</td>\n",
       "      <td>تلك المنازل</td>\n",
       "      <td>لبنان</td>\n",
       "      <td>31</td>\n",
       "      <td>http://www.adab.com/modules.php?name=Sh3er&amp;doW...</td>\n",
       "      <td>إيليا أبو ماضي</td>\n",
       "    </tr>\n",
       "    <tr>\n",
       "      <th>1383</th>\n",
       "      <td>67926</td>\n",
       "      <td>http://www.adab.com/modules.php?name=Sh3er&amp;doW...</td>\n",
       "      <td>فصحى</td>\n",
       "      <td>تلك المنازل كيف حال مقيمها انا قنعنا بعدها بر...</td>\n",
       "      <td>تلك المنازل</td>\n",
       "      <td>لبنان</td>\n",
       "      <td>31</td>\n",
       "      <td>http://www.adab.com/modules.php?name=Sh3er&amp;doW...</td>\n",
       "      <td>إيليا أبو ماضي</td>\n",
       "    </tr>\n",
       "    <tr>\n",
       "      <th>1773</th>\n",
       "      <td>66919</td>\n",
       "      <td>http://www.adab.com/modules.php?name=Sh3er&amp;doW...</td>\n",
       "      <td>فصحى</td>\n",
       "      <td>ذلك الرجل الذي استطاع اقتحام ملكتي علي صهوة رس...</td>\n",
       "      <td>اشهد برجل على صهوة رسالة.</td>\n",
       "      <td>سوريا</td>\n",
       "      <td>35</td>\n",
       "      <td>http://www.adab.com/modules.php?name=Sh3er&amp;doW...</td>\n",
       "      <td>غادة السمان</td>\n",
       "    </tr>\n",
       "    <tr>\n",
       "      <th>...</th>\n",
       "      <td>...</td>\n",
       "      <td>...</td>\n",
       "      <td>...</td>\n",
       "      <td>...</td>\n",
       "      <td>...</td>\n",
       "      <td>...</td>\n",
       "      <td>...</td>\n",
       "      <td>...</td>\n",
       "      <td>...</td>\n",
       "    </tr>\n",
       "    <tr>\n",
       "      <th>57870</th>\n",
       "      <td>86485</td>\n",
       "      <td>http://www.adab.com/modules.php?name=Sh3er&amp;doW...</td>\n",
       "      <td>فصحى</td>\n",
       "      <td>امطلع زهر نجوم الكلام ومشرقه من خلال الحلك ات...</td>\n",
       "      <td>أَمَطلَع زُهر نُجومِ الكَلام</td>\n",
       "      <td>العصر الأندلسي</td>\n",
       "      <td>750</td>\n",
       "      <td>http://www.adab.com/modules.php?name=Sh3er&amp;doW...</td>\n",
       "      <td>المعتمد بن عباد</td>\n",
       "    </tr>\n",
       "    <tr>\n",
       "      <th>57947</th>\n",
       "      <td>86600</td>\n",
       "      <td>http://www.adab.com/modules.php?name=Sh3er&amp;doW...</td>\n",
       "      <td>فصحى</td>\n",
       "      <td>ابا هاشم هشمتني الشفار فله صبري لذاك الاوار ذ...</td>\n",
       "      <td>أَبا هاشِمٍ هَشمتني الشِّفارُ</td>\n",
       "      <td>العصر الأندلسي</td>\n",
       "      <td>750</td>\n",
       "      <td>http://www.adab.com/modules.php?name=Sh3er&amp;doW...</td>\n",
       "      <td>المعتمد بن عباد</td>\n",
       "    </tr>\n",
       "    <tr>\n",
       "      <th>57956</th>\n",
       "      <td>86621</td>\n",
       "      <td>http://www.adab.com/modules.php?name=Sh3er&amp;doW...</td>\n",
       "      <td>فصحى</td>\n",
       "      <td>انفحة الروض رقت في صبا السحر من بعد ما بات وا...</td>\n",
       "      <td>أَنفحة الروض رقت في صبا السحرِ</td>\n",
       "      <td>العصر الأندلسي</td>\n",
       "      <td>750</td>\n",
       "      <td>http://www.adab.com/modules.php?name=Sh3er&amp;doW...</td>\n",
       "      <td>المعتمد بن عباد</td>\n",
       "    </tr>\n",
       "    <tr>\n",
       "      <th>57959</th>\n",
       "      <td>86624</td>\n",
       "      <td>http://www.adab.com/modules.php?name=Sh3er&amp;doW...</td>\n",
       "      <td>فصحى</td>\n",
       "      <td>لولا عيون من الواشين ترمقني وما احاذره من قول...</td>\n",
       "      <td>لولا عيون من الواشين ترمقني</td>\n",
       "      <td>العصر الأندلسي</td>\n",
       "      <td>750</td>\n",
       "      <td>http://www.adab.com/modules.php?name=Sh3er&amp;doW...</td>\n",
       "      <td>المعتمد بن عباد</td>\n",
       "    </tr>\n",
       "    <tr>\n",
       "      <th>57962</th>\n",
       "      <td>86627</td>\n",
       "      <td>http://www.adab.com/modules.php?name=Sh3er&amp;doW...</td>\n",
       "      <td>فصحى</td>\n",
       "      <td>امطلع زهر نجوم الكلام ومشرقه من خلال الحلك ات...</td>\n",
       "      <td>أَمَطلَعُ زُهر نُجوم الكَلام</td>\n",
       "      <td>العصر الأندلسي</td>\n",
       "      <td>750</td>\n",
       "      <td>http://www.adab.com/modules.php?name=Sh3er&amp;doW...</td>\n",
       "      <td>المعتمد بن عباد</td>\n",
       "    </tr>\n",
       "  </tbody>\n",
       "</table>\n",
       "<p>653 rows × 9 columns</p>\n",
       "</div>"
      ],
      "text/plain": [
       "       poem_id                                          poem_link poem_style  \\\n",
       "407      68884  http://www.adab.com/modules.php?name=Sh3er&doW...       فصحى   \n",
       "636      68900  http://www.adab.com/modules.php?name=Sh3er&doW...       فصحى   \n",
       "1365     67907  http://www.adab.com/modules.php?name=Sh3er&doW...       فصحى   \n",
       "1383     67926  http://www.adab.com/modules.php?name=Sh3er&doW...       فصحى   \n",
       "1773     66919  http://www.adab.com/modules.php?name=Sh3er&doW...       فصحى   \n",
       "...        ...                                                ...        ...   \n",
       "57870    86485  http://www.adab.com/modules.php?name=Sh3er&doW...       فصحى   \n",
       "57947    86600  http://www.adab.com/modules.php?name=Sh3er&doW...       فصحى   \n",
       "57956    86621  http://www.adab.com/modules.php?name=Sh3er&doW...       فصحى   \n",
       "57959    86624  http://www.adab.com/modules.php?name=Sh3er&doW...       فصحى   \n",
       "57962    86627  http://www.adab.com/modules.php?name=Sh3er&doW...       فصحى   \n",
       "\n",
       "                                               poem_text  \\\n",
       "407    ليس في وسعك يا سيدتي ان تصلحيني فلقد فات القطا...   \n",
       "636    ليس في وسعك يا سيدتي ان تصلحيني فلقد فات القطا...   \n",
       "1365    تلك المنازل كيف حال مقيمها انا قنعنا بعدها بر...   \n",
       "1383    تلك المنازل كيف حال مقيمها انا قنعنا بعدها بر...   \n",
       "1773   ذلك الرجل الذي استطاع اقتحام ملكتي علي صهوة رس...   \n",
       "...                                                  ...   \n",
       "57870   امطلع زهر نجوم الكلام ومشرقه من خلال الحلك ات...   \n",
       "57947   ابا هاشم هشمتني الشفار فله صبري لذاك الاوار ذ...   \n",
       "57956   انفحة الروض رقت في صبا السحر من بعد ما بات وا...   \n",
       "57959   لولا عيون من الواشين ترمقني وما احاذره من قول...   \n",
       "57962   امطلع زهر نجوم الكلام ومشرقه من خلال الحلك ات...   \n",
       "\n",
       "                            poem_title        poet_cat  poet_id  \\\n",
       "407                          تَشَبُّث            سوريا        7   \n",
       "636                             تصميم            سوريا        7   \n",
       "1365                      تلك المنازل            لبنان       31   \n",
       "1383                      تلك المنازل            لبنان       31   \n",
       "1773        اشهد برجل على صهوة رسالة.            سوريا       35   \n",
       "...                                ...             ...      ...   \n",
       "57870    أَمَطلَع زُهر نُجومِ الكَلام   العصر الأندلسي      750   \n",
       "57947   أَبا هاشِمٍ هَشمتني الشِّفارُ   العصر الأندلسي      750   \n",
       "57956  أَنفحة الروض رقت في صبا السحرِ   العصر الأندلسي      750   \n",
       "57959     لولا عيون من الواشين ترمقني   العصر الأندلسي      750   \n",
       "57962   أَمَطلَعُ زُهر نُجوم الكَلام    العصر الأندلسي      750   \n",
       "\n",
       "                                               poet_link        poet_name  \n",
       "407    http://www.adab.com/modules.php?name=Sh3er&doW...       نزار قباني  \n",
       "636    http://www.adab.com/modules.php?name=Sh3er&doW...       نزار قباني  \n",
       "1365   http://www.adab.com/modules.php?name=Sh3er&doW...   إيليا أبو ماضي  \n",
       "1383   http://www.adab.com/modules.php?name=Sh3er&doW...   إيليا أبو ماضي  \n",
       "1773   http://www.adab.com/modules.php?name=Sh3er&doW...      غادة السمان  \n",
       "...                                                  ...              ...  \n",
       "57870  http://www.adab.com/modules.php?name=Sh3er&doW...  المعتمد بن عباد  \n",
       "57947  http://www.adab.com/modules.php?name=Sh3er&doW...  المعتمد بن عباد  \n",
       "57956  http://www.adab.com/modules.php?name=Sh3er&doW...  المعتمد بن عباد  \n",
       "57959  http://www.adab.com/modules.php?name=Sh3er&doW...  المعتمد بن عباد  \n",
       "57962  http://www.adab.com/modules.php?name=Sh3er&doW...  المعتمد بن عباد  \n",
       "\n",
       "[653 rows x 9 columns]"
      ]
     },
     "execution_count": 6,
     "metadata": {},
     "output_type": "execute_result"
    }
   ],
   "source": [
    "df[df.duplicated(subset=['poem_text'],keep=False)]"
   ]
  },
  {
   "cell_type": "code",
   "execution_count": 12,
   "metadata": {},
   "outputs": [
    {
     "data": {
      "text/plain": [
       "array(['فصحى', '-', 'عامي'], dtype=object)"
      ]
     },
     "execution_count": 12,
     "metadata": {},
     "output_type": "execute_result"
    }
   ],
   "source": [
    "df.poem_style.unique()"
   ]
  },
  {
   "cell_type": "code",
   "execution_count": 7,
   "metadata": {},
   "outputs": [
    {
     "data": {
      "text/plain": [
       "'عيناك غابتا نخيل ساعة السحر او شرفتان راح يناي عنهما القمر عيناك حين تبسمان تورق الكروم وترقص الاضواء كالاقمار في نهر يرجه المجذاف وهنا ساعة السحر كانما تنبض في غوريهما النجوم وتغرقان في ضباب من اسي شفيف كالبحر سرح اليدين فوقه المساء دفء الشتاء فيه وارتعاشة الخريف والموت والميلاد والظلام والضياء فتستفيق ملء روحي رعشة البكاء ونشوة وحشية تعانق السماء كنشوة الطفل اذا خاف من القمر كان اقواس السحاب تشرب الغيوم وقطرة فقطرة تذوب في المطر وكركر الاطفال في عراءش الكروم ودغدغت صمت العصافير علي الشجر انشودة المطر مطر مطر مطر تثاءب المساء والغيوم ما تزال تسح ما تسح من دموعها الثقال كان طفلا بات يهذي قبل ان ينام بان امه – التي افاق منذ عام فلم يجدها ثم حين لج في السءال قالوا له \"بعد غد تعود \" لا بد ان تعود وان تهامس الرفاق انها هناك في جانب التل تنام نومة الحود تسف من ترابها وتشرب المطر كان صيادا حزينا يجمع الشباك ويلعن المياه والقدر وينثر الغناء حيث يافل القمر مطر مطر اتعلمين اي حزن يبعث المطر وكيف تنشج المزاريب اذا انهمر وكيف يشعر الوحيد فيه بالضياع بلا انتهاء – كالدم المراق كالجياع كالحب كالاطفال كالموتي – هو المطر ومقلتاك بي تطيفان مع المطر وعبر امواج الخليج تمسح البروق سواحل العراق بالنجوم والمحار كانها تهم بالشروق فيسحب اليل عليها من دم دثار اصيح بالخليج \" يا خليج يا واهب الءلء والمحار والردي \" فيرجع الصدي كانه النشيج \" يا خليج يا واهب المحار والردي \" اكاد اسمع العراق يذخر الرعود ويخزن البروق في السهول والجبال حتي اذا ما فض عنها ختمها الرجال لم ترك الرياح من ثمود في الواد من اثر اكاد اسمع النخيل يشرب المطر واسمع القري تءن والمهاجرين يصارعون بالمجاذيف وبالقلوع عواصف الخليج والرعود منشدين \" مطر مطر مطر وفي العراق جوع وينثر الغلال فيه موسم الحصاد لتشبع الغربان والجراد وتطحن الشوان والحجر رحي تدور في الحقول حولها بشر مطر مطر مطر وكم ذرفنا ليلة الرحيل من دموع ثم اعتلنا – خوف ان نلام – بالمطر مطر مطر ومنذ ان كنا صغارا كانت السماء تغيم في الشتاء ويهطل المطر وكل عام – حين يعشب الثري – نجوع ما مر عام والعراق ليس فيه جوع مطر مطر مطر في كل قطرة من المطر حمراء او صفراء من اجنة الزهر وكل دمعة من الجياع والعراة وكل قطرة تراق من دم العبيد فهي ابتسام في انتظار مبسم جديد او حلمة توردت علي فم الوليد في عالم الغد الفتي واهب الحياة مطر مطر مطر سيعشب العراق بالمطر \" اصيح بالخليج \" يا خليج يا واهب الءلء والمحار والردي \" فيرجع الصدي كانه النشيج \" يا خليج يا واهب المحار والردي \" وينثر الخليج من هباته الكثار علي الرمال رغوه الاجاج والمحار وما تبقي من عظام باءس غريق من المهاجرين ظل يشرب الردي من لجة الخليج والقرار وفي العراق الف افعي تشرب الرحيق من زهرة يربها الفرات بالندي واسمع الصدي يرن في الخليج \" مطر مطر مطر في كل قطرة من المطر حمراء او صفراء من اجنة الزهر وكل دمعة من الجياع والعراة وكل قطرة تراق من دم العبيد فهي ابتسام في انتظار مبسم جديد او حلمة توردت علي فم الوليد في عالم الغد الفتي واهب الحياة \" ويهطل المطر '"
      ]
     },
     "execution_count": 7,
     "metadata": {},
     "output_type": "execute_result"
    }
   ],
   "source": [
    "df['poem_text'][0]"
   ]
  },
  {
   "cell_type": "code",
   "execution_count": 8,
   "metadata": {},
   "outputs": [
    {
     "data": {
      "text/html": [
       "<div>\n",
       "<style scoped>\n",
       "    .dataframe tbody tr th:only-of-type {\n",
       "        vertical-align: middle;\n",
       "    }\n",
       "\n",
       "    .dataframe tbody tr th {\n",
       "        vertical-align: top;\n",
       "    }\n",
       "\n",
       "    .dataframe thead th {\n",
       "        text-align: right;\n",
       "    }\n",
       "</style>\n",
       "<table border=\"1\" class=\"dataframe\">\n",
       "  <thead>\n",
       "    <tr style=\"text-align: right;\">\n",
       "      <th></th>\n",
       "      <th>poem_id</th>\n",
       "      <th>poem_link</th>\n",
       "      <th>poem_style</th>\n",
       "      <th>poem_text</th>\n",
       "      <th>poem_title</th>\n",
       "      <th>poet_cat</th>\n",
       "      <th>poet_id</th>\n",
       "      <th>poet_link</th>\n",
       "      <th>poet_name</th>\n",
       "    </tr>\n",
       "  </thead>\n",
       "  <tbody>\n",
       "    <tr>\n",
       "      <th>1177</th>\n",
       "      <td>70027</td>\n",
       "      <td>http://www.adab.com/modules.php?name=Sh3er&amp;doW...</td>\n",
       "      <td>-</td>\n",
       "      <td>هم اكسبوك من السباق رهانا فربحت انت وادركوا ا...</td>\n",
       "      <td>أحمد ياسين</td>\n",
       "      <td>السعودية</td>\n",
       "      <td>25</td>\n",
       "      <td>http://www.adab.com/modules.php?name=Sh3er&amp;doW...</td>\n",
       "      <td>عبدالرحمن العشماوي</td>\n",
       "    </tr>\n",
       "    <tr>\n",
       "      <th>53407</th>\n",
       "      <td>80726</td>\n",
       "      <td>http://www.adab.com/modules.php?name=Sh3er&amp;doW...</td>\n",
       "      <td>-</td>\n",
       "      <td>اي فردوس انسل منه النساء وسكبن السراب علي سبات...</td>\n",
       "      <td>قصيدة النساء</td>\n",
       "      <td>السعودية</td>\n",
       "      <td>584</td>\n",
       "      <td>http://www.adab.com/modules.php?name=Sh3er&amp;doW...</td>\n",
       "      <td>فوزية أبوخالد</td>\n",
       "    </tr>\n",
       "    <tr>\n",
       "      <th>53408</th>\n",
       "      <td>80727</td>\n",
       "      <td>http://www.adab.com/modules.php?name=Sh3er&amp;doW...</td>\n",
       "      <td>-</td>\n",
       "      <td>غمست اصابعها في الصحراء وكتبت بماء السراب قصيدة</td>\n",
       "      <td>قصيدة الماء</td>\n",
       "      <td>السعودية</td>\n",
       "      <td>584</td>\n",
       "      <td>http://www.adab.com/modules.php?name=Sh3er&amp;doW...</td>\n",
       "      <td>فوزية أبوخالد</td>\n",
       "    </tr>\n",
       "    <tr>\n",
       "      <th>53409</th>\n",
       "      <td>80728</td>\n",
       "      <td>http://www.adab.com/modules.php?name=Sh3er&amp;doW...</td>\n",
       "      <td>-</td>\n",
       "      <td>غافلتني كملكة لا تريد ان تري الرعية نزواتها , ...</td>\n",
       "      <td>نافورة</td>\n",
       "      <td>السعودية</td>\n",
       "      <td>584</td>\n",
       "      <td>http://www.adab.com/modules.php?name=Sh3er&amp;doW...</td>\n",
       "      <td>فوزية أبوخالد</td>\n",
       "    </tr>\n",
       "    <tr>\n",
       "      <th>53410</th>\n",
       "      <td>80729</td>\n",
       "      <td>http://www.adab.com/modules.php?name=Sh3er&amp;doW...</td>\n",
       "      <td>-</td>\n",
       "      <td>خلعت اسنان البن وتمضمضت بالحبر خالعت طاعات طاع...</td>\n",
       "      <td>مخالعة</td>\n",
       "      <td>السعودية</td>\n",
       "      <td>584</td>\n",
       "      <td>http://www.adab.com/modules.php?name=Sh3er&amp;doW...</td>\n",
       "      <td>فوزية أبوخالد</td>\n",
       "    </tr>\n",
       "    <tr>\n",
       "      <th>53411</th>\n",
       "      <td>80730</td>\n",
       "      <td>http://www.adab.com/modules.php?name=Sh3er&amp;doW...</td>\n",
       "      <td>-</td>\n",
       "      <td>مزجت جرحها بانتصاراته ونصبت تحت السماء ناموسية...</td>\n",
       "      <td>صباحية</td>\n",
       "      <td>السعودية</td>\n",
       "      <td>584</td>\n",
       "      <td>http://www.adab.com/modules.php?name=Sh3er&amp;doW...</td>\n",
       "      <td>فوزية أبوخالد</td>\n",
       "    </tr>\n",
       "    <tr>\n",
       "      <th>53412</th>\n",
       "      <td>80731</td>\n",
       "      <td>http://www.adab.com/modules.php?name=Sh3er&amp;doW...</td>\n",
       "      <td>-</td>\n",
       "      <td>كانت مدجة كفزاعة وكنت عزلاء كريشة انفلت من جنا...</td>\n",
       "      <td>موازين قوى</td>\n",
       "      <td>السعودية</td>\n",
       "      <td>584</td>\n",
       "      <td>http://www.adab.com/modules.php?name=Sh3er&amp;doW...</td>\n",
       "      <td>فوزية أبوخالد</td>\n",
       "    </tr>\n",
       "    <tr>\n",
       "      <th>53413</th>\n",
       "      <td>80732</td>\n",
       "      <td>http://www.adab.com/modules.php?name=Sh3er&amp;doW...</td>\n",
       "      <td>-</td>\n",
       "      <td>لعبت مع الاطفال الاستغماية طيرت طيارات ورق سكب...</td>\n",
       "      <td>سؤال</td>\n",
       "      <td>السعودية</td>\n",
       "      <td>584</td>\n",
       "      <td>http://www.adab.com/modules.php?name=Sh3er&amp;doW...</td>\n",
       "      <td>فوزية أبوخالد</td>\n",
       "    </tr>\n",
       "    <tr>\n",
       "      <th>53414</th>\n",
       "      <td>80733</td>\n",
       "      <td>http://www.adab.com/modules.php?name=Sh3er&amp;doW...</td>\n",
       "      <td>-</td>\n",
       "      <td>من شرفة شقتهم الضيقة كنعش تدلي جسدها الفاره كع...</td>\n",
       "      <td>مجاسدة</td>\n",
       "      <td>السعودية</td>\n",
       "      <td>584</td>\n",
       "      <td>http://www.adab.com/modules.php?name=Sh3er&amp;doW...</td>\n",
       "      <td>فوزية أبوخالد</td>\n",
       "    </tr>\n",
       "    <tr>\n",
       "      <th>53415</th>\n",
       "      <td>80734</td>\n",
       "      <td>http://www.adab.com/modules.php?name=Sh3er&amp;doW...</td>\n",
       "      <td>-</td>\n",
       "      <td>نصب مصيدته عند استدارة رمانه كتفها ولكن غلبته ...</td>\n",
       "      <td>سن يأس</td>\n",
       "      <td>السعودية</td>\n",
       "      <td>584</td>\n",
       "      <td>http://www.adab.com/modules.php?name=Sh3er&amp;doW...</td>\n",
       "      <td>فوزية أبوخالد</td>\n",
       "    </tr>\n",
       "    <tr>\n",
       "      <th>53416</th>\n",
       "      <td>80735</td>\n",
       "      <td>http://www.adab.com/modules.php?name=Sh3er&amp;doW...</td>\n",
       "      <td>-</td>\n",
       "      <td>بابنا مقفل بالف الف قفل وعرق قرنفل يطرق القلب ...</td>\n",
       "      <td>ثقب</td>\n",
       "      <td>السعودية</td>\n",
       "      <td>584</td>\n",
       "      <td>http://www.adab.com/modules.php?name=Sh3er&amp;doW...</td>\n",
       "      <td>فوزية أبوخالد</td>\n",
       "    </tr>\n",
       "    <tr>\n",
       "      <th>53417</th>\n",
       "      <td>80736</td>\n",
       "      <td>http://www.adab.com/modules.php?name=Sh3er&amp;doW...</td>\n",
       "      <td>-</td>\n",
       "      <td>هل جءت هل جءت هنا وانهار جدار هل استجرحت الجرح...</td>\n",
       "      <td>بين المنام واليقظة !</td>\n",
       "      <td>السعودية</td>\n",
       "      <td>584</td>\n",
       "      <td>http://www.adab.com/modules.php?name=Sh3er&amp;doW...</td>\n",
       "      <td>فوزية أبوخالد</td>\n",
       "    </tr>\n",
       "    <tr>\n",
       "      <th>53418</th>\n",
       "      <td>80737</td>\n",
       "      <td>http://www.adab.com/modules.php?name=Sh3er&amp;doW...</td>\n",
       "      <td>-</td>\n",
       "      <td>بقدر مايكره الحجر الاصم استسلامه لقانون السكون...</td>\n",
       "      <td>كره !!</td>\n",
       "      <td>السعودية</td>\n",
       "      <td>584</td>\n",
       "      <td>http://www.adab.com/modules.php?name=Sh3er&amp;doW...</td>\n",
       "      <td>فوزية أبوخالد</td>\n",
       "    </tr>\n",
       "    <tr>\n",
       "      <th>53419</th>\n",
       "      <td>80738</td>\n",
       "      <td>http://www.adab.com/modules.php?name=Sh3er&amp;doW...</td>\n",
       "      <td>-</td>\n",
       "      <td>النارنج يتشق ثوبها اليفي الضارب في السمرة فترش...</td>\n",
       "      <td>إلى متى نحتسي البحر ؟</td>\n",
       "      <td>السعودية</td>\n",
       "      <td>584</td>\n",
       "      <td>http://www.adab.com/modules.php?name=Sh3er&amp;doW...</td>\n",
       "      <td>فوزية أبوخالد</td>\n",
       "    </tr>\n",
       "    <tr>\n",
       "      <th>53420</th>\n",
       "      <td>80739</td>\n",
       "      <td>http://www.adab.com/modules.php?name=Sh3er&amp;doW...</td>\n",
       "      <td>-</td>\n",
       "      <td>يفوح فحيحها بالاسءلة يحفها هواء الشهوات وتلوي ...</td>\n",
       "      <td>الحية</td>\n",
       "      <td>السعودية</td>\n",
       "      <td>584</td>\n",
       "      <td>http://www.adab.com/modules.php?name=Sh3er&amp;doW...</td>\n",
       "      <td>فوزية أبوخالد</td>\n",
       "    </tr>\n",
       "    <tr>\n",
       "      <th>53421</th>\n",
       "      <td>80740</td>\n",
       "      <td>http://www.adab.com/modules.php?name=Sh3er&amp;doW...</td>\n",
       "      <td>-</td>\n",
       "      <td>لوحل لمن غاص في اعماقه السوداء راءحة قرحة المع...</td>\n",
       "      <td>الوحل</td>\n",
       "      <td>السعودية</td>\n",
       "      <td>584</td>\n",
       "      <td>http://www.adab.com/modules.php?name=Sh3er&amp;doW...</td>\n",
       "      <td>فوزية أبوخالد</td>\n",
       "    </tr>\n",
       "    <tr>\n",
       "      <th>53422</th>\n",
       "      <td>80741</td>\n",
       "      <td>http://www.adab.com/modules.php?name=Sh3er&amp;doW...</td>\n",
       "      <td>-</td>\n",
       "      <td>تحيك البحيرات ماءها من صداقة الشتاء من التمرد ...</td>\n",
       "      <td>بحيرات</td>\n",
       "      <td>السعودية</td>\n",
       "      <td>584</td>\n",
       "      <td>http://www.adab.com/modules.php?name=Sh3er&amp;doW...</td>\n",
       "      <td>فوزية أبوخالد</td>\n",
       "    </tr>\n",
       "    <tr>\n",
       "      <th>53423</th>\n",
       "      <td>80742</td>\n",
       "      <td>http://www.adab.com/modules.php?name=Sh3er&amp;doW...</td>\n",
       "      <td>-</td>\n",
       "      <td>لطيور راءحة تشبه ريش اجنحتها فبعضها شاءك يشتبك...</td>\n",
       "      <td>الطيور</td>\n",
       "      <td>السعودية</td>\n",
       "      <td>584</td>\n",
       "      <td>http://www.adab.com/modules.php?name=Sh3er&amp;doW...</td>\n",
       "      <td>فوزية أبوخالد</td>\n",
       "    </tr>\n",
       "    <tr>\n",
       "      <th>53424</th>\n",
       "      <td>80743</td>\n",
       "      <td>http://www.adab.com/modules.php?name=Sh3er&amp;doW...</td>\n",
       "      <td>-</td>\n",
       "      <td>مثلما تحدس الاحصنة المطر من استنشاق الرمل مثلم...</td>\n",
       "      <td>الأسرار</td>\n",
       "      <td>السعودية</td>\n",
       "      <td>584</td>\n",
       "      <td>http://www.adab.com/modules.php?name=Sh3er&amp;doW...</td>\n",
       "      <td>فوزية أبوخالد</td>\n",
       "    </tr>\n",
       "    <tr>\n",
       "      <th>53425</th>\n",
       "      <td>80744</td>\n",
       "      <td>http://www.adab.com/modules.php?name=Sh3er&amp;doW...</td>\n",
       "      <td>-</td>\n",
       "      <td>مراوح ناحلة تهف براءحة البارود اغصان سامقة ترم...</td>\n",
       "      <td>الصبايا</td>\n",
       "      <td>السعودية</td>\n",
       "      <td>584</td>\n",
       "      <td>http://www.adab.com/modules.php?name=Sh3er&amp;doW...</td>\n",
       "      <td>فوزية أبوخالد</td>\n",
       "    </tr>\n",
       "    <tr>\n",
       "      <th>53426</th>\n",
       "      <td>80745</td>\n",
       "      <td>http://www.adab.com/modules.php?name=Sh3er&amp;doW...</td>\n",
       "      <td>-</td>\n",
       "      <td>يحسبوني شيءا او جماد لايحفلون بمشاعري الحبيسة ...</td>\n",
       "      <td>ورقة ..</td>\n",
       "      <td>السعودية</td>\n",
       "      <td>584</td>\n",
       "      <td>http://www.adab.com/modules.php?name=Sh3er&amp;doW...</td>\n",
       "      <td>فوزية أبوخالد</td>\n",
       "    </tr>\n",
       "    <tr>\n",
       "      <th>53427</th>\n",
       "      <td>80746</td>\n",
       "      <td>http://www.adab.com/modules.php?name=Sh3er&amp;doW...</td>\n",
       "      <td>-</td>\n",
       "      <td>تءلمني هده العصافير المزعجة كلما خبطت اجنحتها ...</td>\n",
       "      <td>قفـص</td>\n",
       "      <td>السعودية</td>\n",
       "      <td>584</td>\n",
       "      <td>http://www.adab.com/modules.php?name=Sh3er&amp;doW...</td>\n",
       "      <td>فوزية أبوخالد</td>\n",
       "    </tr>\n",
       "    <tr>\n",
       "      <th>53428</th>\n",
       "      <td>80747</td>\n",
       "      <td>http://www.adab.com/modules.php?name=Sh3er&amp;doW...</td>\n",
       "      <td>-</td>\n",
       "      <td>من الموسلين الاسود او من القطن المتقع من حرير ...</td>\n",
       "      <td>العباءة</td>\n",
       "      <td>السعودية</td>\n",
       "      <td>584</td>\n",
       "      <td>http://www.adab.com/modules.php?name=Sh3er&amp;doW...</td>\n",
       "      <td>فوزية أبوخالد</td>\n",
       "    </tr>\n",
       "    <tr>\n",
       "      <th>53429</th>\n",
       "      <td>80748</td>\n",
       "      <td>http://www.adab.com/modules.php?name=Sh3er&amp;doW...</td>\n",
       "      <td>-</td>\n",
       "      <td>تجيء الامجاد/ وتهب, فلا ابه الا بما يتوجني, به...</td>\n",
       "      <td>التاج</td>\n",
       "      <td>السعودية</td>\n",
       "      <td>584</td>\n",
       "      <td>http://www.adab.com/modules.php?name=Sh3er&amp;doW...</td>\n",
       "      <td>فوزية أبوخالد</td>\n",
       "    </tr>\n",
       "    <tr>\n",
       "      <th>53430</th>\n",
       "      <td>80749</td>\n",
       "      <td>http://www.adab.com/modules.php?name=Sh3er&amp;doW...</td>\n",
       "      <td>-</td>\n",
       "      <td>من يخالني الطف الجو لايعلم شيءا عن تجرعي لكل ت...</td>\n",
       "      <td>المكيّف</td>\n",
       "      <td>السعودية</td>\n",
       "      <td>584</td>\n",
       "      <td>http://www.adab.com/modules.php?name=Sh3er&amp;doW...</td>\n",
       "      <td>فوزية أبوخالد</td>\n",
       "    </tr>\n",
       "    <tr>\n",
       "      <th>53431</th>\n",
       "      <td>80750</td>\n",
       "      <td>http://www.adab.com/modules.php?name=Sh3er&amp;doW...</td>\n",
       "      <td>-</td>\n",
       "      <td>استمتع براءحة البن والهيل بكل حواسي اترك عبيره...</td>\n",
       "      <td>دلّة القهوة !</td>\n",
       "      <td>السعودية</td>\n",
       "      <td>584</td>\n",
       "      <td>http://www.adab.com/modules.php?name=Sh3er&amp;doW...</td>\n",
       "      <td>فوزية أبوخالد</td>\n",
       "    </tr>\n",
       "    <tr>\n",
       "      <th>53432</th>\n",
       "      <td>80751</td>\n",
       "      <td>http://www.adab.com/modules.php?name=Sh3er&amp;doW...</td>\n",
       "      <td>-</td>\n",
       "      <td>غافلتني كملكة لا تريد ان تري الرعية نزواتها قط...</td>\n",
       "      <td>نافورة..</td>\n",
       "      <td>السعودية</td>\n",
       "      <td>584</td>\n",
       "      <td>http://www.adab.com/modules.php?name=Sh3er&amp;doW...</td>\n",
       "      <td>فوزية أبوخالد</td>\n",
       "    </tr>\n",
       "    <tr>\n",
       "      <th>53433</th>\n",
       "      <td>80752</td>\n",
       "      <td>http://www.adab.com/modules.php?name=Sh3er&amp;doW...</td>\n",
       "      <td>-</td>\n",
       "      <td>\" احبتك اله يبني في عرشه اعشاشا لزغاليل الحمام...</td>\n",
       "      <td>لن يسرقوا الله من وجهك !!</td>\n",
       "      <td>السعودية</td>\n",
       "      <td>584</td>\n",
       "      <td>http://www.adab.com/modules.php?name=Sh3er&amp;doW...</td>\n",
       "      <td>فوزية أبوخالد</td>\n",
       "    </tr>\n",
       "    <tr>\n",
       "      <th>53434</th>\n",
       "      <td>80753</td>\n",
       "      <td>http://www.adab.com/modules.php?name=Sh3er&amp;doW...</td>\n",
       "      <td>-</td>\n",
       "      <td>احب هذا الحرير الحارق كلما تدفقت قدماها في جوف...</td>\n",
       "      <td>الحــذاء</td>\n",
       "      <td>السعودية</td>\n",
       "      <td>584</td>\n",
       "      <td>http://www.adab.com/modules.php?name=Sh3er&amp;doW...</td>\n",
       "      <td>فوزية أبوخالد</td>\n",
       "    </tr>\n",
       "    <tr>\n",
       "      <th>53435</th>\n",
       "      <td>80754</td>\n",
       "      <td>http://www.adab.com/modules.php?name=Sh3er&amp;doW...</td>\n",
       "      <td>-</td>\n",
       "      <td>الكل يشتكي برد الشتاء ارق اليل كسل الظهيرة صهب...</td>\n",
       "      <td>الساعـة</td>\n",
       "      <td>السعودية</td>\n",
       "      <td>584</td>\n",
       "      <td>http://www.adab.com/modules.php?name=Sh3er&amp;doW...</td>\n",
       "      <td>فوزية أبوخالد</td>\n",
       "    </tr>\n",
       "    <tr>\n",
       "      <th>53436</th>\n",
       "      <td>80755</td>\n",
       "      <td>http://www.adab.com/modules.php?name=Sh3er&amp;doW...</td>\n",
       "      <td>-</td>\n",
       "      <td>ملقي علي مشجب خشبي خشب المشجب علي وشك ان يتحول...</td>\n",
       "      <td>ملقى على مشجب خشبي</td>\n",
       "      <td>السعودية</td>\n",
       "      <td>584</td>\n",
       "      <td>http://www.adab.com/modules.php?name=Sh3er&amp;doW...</td>\n",
       "      <td>فوزية أبوخالد</td>\n",
       "    </tr>\n",
       "    <tr>\n",
       "      <th>53437</th>\n",
       "      <td>80756</td>\n",
       "      <td>http://www.adab.com/modules.php?name=Sh3er&amp;doW...</td>\n",
       "      <td>-</td>\n",
       "      <td>حلبت السحب الصحراوية الشحيحة احلاما وحزنا وماء...</td>\n",
       "      <td>حسناء</td>\n",
       "      <td>السعودية</td>\n",
       "      <td>584</td>\n",
       "      <td>http://www.adab.com/modules.php?name=Sh3er&amp;doW...</td>\n",
       "      <td>فوزية أبوخالد</td>\n",
       "    </tr>\n",
       "    <tr>\n",
       "      <th>53438</th>\n",
       "      <td>80757</td>\n",
       "      <td>http://www.adab.com/modules.php?name=Sh3er&amp;doW...</td>\n",
       "      <td>-</td>\n",
       "      <td>اركض الان بين الصور بين وكالات الانباءالزرقاءا...</td>\n",
       "      <td>قراءة فى السر لتاريخ الصمت العربى</td>\n",
       "      <td>السعودية</td>\n",
       "      <td>584</td>\n",
       "      <td>http://www.adab.com/modules.php?name=Sh3er&amp;doW...</td>\n",
       "      <td>فوزية أبوخالد</td>\n",
       "    </tr>\n",
       "  </tbody>\n",
       "</table>\n",
       "</div>"
      ],
      "text/plain": [
       "       poem_id                                          poem_link poem_style  \\\n",
       "1177     70027  http://www.adab.com/modules.php?name=Sh3er&doW...          -   \n",
       "53407    80726  http://www.adab.com/modules.php?name=Sh3er&doW...          -   \n",
       "53408    80727  http://www.adab.com/modules.php?name=Sh3er&doW...          -   \n",
       "53409    80728  http://www.adab.com/modules.php?name=Sh3er&doW...          -   \n",
       "53410    80729  http://www.adab.com/modules.php?name=Sh3er&doW...          -   \n",
       "53411    80730  http://www.adab.com/modules.php?name=Sh3er&doW...          -   \n",
       "53412    80731  http://www.adab.com/modules.php?name=Sh3er&doW...          -   \n",
       "53413    80732  http://www.adab.com/modules.php?name=Sh3er&doW...          -   \n",
       "53414    80733  http://www.adab.com/modules.php?name=Sh3er&doW...          -   \n",
       "53415    80734  http://www.adab.com/modules.php?name=Sh3er&doW...          -   \n",
       "53416    80735  http://www.adab.com/modules.php?name=Sh3er&doW...          -   \n",
       "53417    80736  http://www.adab.com/modules.php?name=Sh3er&doW...          -   \n",
       "53418    80737  http://www.adab.com/modules.php?name=Sh3er&doW...          -   \n",
       "53419    80738  http://www.adab.com/modules.php?name=Sh3er&doW...          -   \n",
       "53420    80739  http://www.adab.com/modules.php?name=Sh3er&doW...          -   \n",
       "53421    80740  http://www.adab.com/modules.php?name=Sh3er&doW...          -   \n",
       "53422    80741  http://www.adab.com/modules.php?name=Sh3er&doW...          -   \n",
       "53423    80742  http://www.adab.com/modules.php?name=Sh3er&doW...          -   \n",
       "53424    80743  http://www.adab.com/modules.php?name=Sh3er&doW...          -   \n",
       "53425    80744  http://www.adab.com/modules.php?name=Sh3er&doW...          -   \n",
       "53426    80745  http://www.adab.com/modules.php?name=Sh3er&doW...          -   \n",
       "53427    80746  http://www.adab.com/modules.php?name=Sh3er&doW...          -   \n",
       "53428    80747  http://www.adab.com/modules.php?name=Sh3er&doW...          -   \n",
       "53429    80748  http://www.adab.com/modules.php?name=Sh3er&doW...          -   \n",
       "53430    80749  http://www.adab.com/modules.php?name=Sh3er&doW...          -   \n",
       "53431    80750  http://www.adab.com/modules.php?name=Sh3er&doW...          -   \n",
       "53432    80751  http://www.adab.com/modules.php?name=Sh3er&doW...          -   \n",
       "53433    80752  http://www.adab.com/modules.php?name=Sh3er&doW...          -   \n",
       "53434    80753  http://www.adab.com/modules.php?name=Sh3er&doW...          -   \n",
       "53435    80754  http://www.adab.com/modules.php?name=Sh3er&doW...          -   \n",
       "53436    80755  http://www.adab.com/modules.php?name=Sh3er&doW...          -   \n",
       "53437    80756  http://www.adab.com/modules.php?name=Sh3er&doW...          -   \n",
       "53438    80757  http://www.adab.com/modules.php?name=Sh3er&doW...          -   \n",
       "\n",
       "                                               poem_text  \\\n",
       "1177    هم اكسبوك من السباق رهانا فربحت انت وادركوا ا...   \n",
       "53407  اي فردوس انسل منه النساء وسكبن السراب علي سبات...   \n",
       "53408    غمست اصابعها في الصحراء وكتبت بماء السراب قصيدة   \n",
       "53409  غافلتني كملكة لا تريد ان تري الرعية نزواتها , ...   \n",
       "53410  خلعت اسنان البن وتمضمضت بالحبر خالعت طاعات طاع...   \n",
       "53411  مزجت جرحها بانتصاراته ونصبت تحت السماء ناموسية...   \n",
       "53412  كانت مدجة كفزاعة وكنت عزلاء كريشة انفلت من جنا...   \n",
       "53413  لعبت مع الاطفال الاستغماية طيرت طيارات ورق سكب...   \n",
       "53414  من شرفة شقتهم الضيقة كنعش تدلي جسدها الفاره كع...   \n",
       "53415  نصب مصيدته عند استدارة رمانه كتفها ولكن غلبته ...   \n",
       "53416  بابنا مقفل بالف الف قفل وعرق قرنفل يطرق القلب ...   \n",
       "53417  هل جءت هل جءت هنا وانهار جدار هل استجرحت الجرح...   \n",
       "53418  بقدر مايكره الحجر الاصم استسلامه لقانون السكون...   \n",
       "53419  النارنج يتشق ثوبها اليفي الضارب في السمرة فترش...   \n",
       "53420  يفوح فحيحها بالاسءلة يحفها هواء الشهوات وتلوي ...   \n",
       "53421  لوحل لمن غاص في اعماقه السوداء راءحة قرحة المع...   \n",
       "53422  تحيك البحيرات ماءها من صداقة الشتاء من التمرد ...   \n",
       "53423  لطيور راءحة تشبه ريش اجنحتها فبعضها شاءك يشتبك...   \n",
       "53424  مثلما تحدس الاحصنة المطر من استنشاق الرمل مثلم...   \n",
       "53425  مراوح ناحلة تهف براءحة البارود اغصان سامقة ترم...   \n",
       "53426  يحسبوني شيءا او جماد لايحفلون بمشاعري الحبيسة ...   \n",
       "53427  تءلمني هده العصافير المزعجة كلما خبطت اجنحتها ...   \n",
       "53428  من الموسلين الاسود او من القطن المتقع من حرير ...   \n",
       "53429  تجيء الامجاد/ وتهب, فلا ابه الا بما يتوجني, به...   \n",
       "53430  من يخالني الطف الجو لايعلم شيءا عن تجرعي لكل ت...   \n",
       "53431  استمتع براءحة البن والهيل بكل حواسي اترك عبيره...   \n",
       "53432  غافلتني كملكة لا تريد ان تري الرعية نزواتها قط...   \n",
       "53433  \" احبتك اله يبني في عرشه اعشاشا لزغاليل الحمام...   \n",
       "53434  احب هذا الحرير الحارق كلما تدفقت قدماها في جوف...   \n",
       "53435  الكل يشتكي برد الشتاء ارق اليل كسل الظهيرة صهب...   \n",
       "53436  ملقي علي مشجب خشبي خشب المشجب علي وشك ان يتحول...   \n",
       "53437  حلبت السحب الصحراوية الشحيحة احلاما وحزنا وماء...   \n",
       "53438  اركض الان بين الصور بين وكالات الانباءالزرقاءا...   \n",
       "\n",
       "                               poem_title  poet_cat  poet_id  \\\n",
       "1177                          أحمد ياسين   السعودية       25   \n",
       "53407                      قصيدة النساء    السعودية      584   \n",
       "53408                       قصيدة الماء    السعودية      584   \n",
       "53409                             نافورة   السعودية      584   \n",
       "53410                             مخالعة   السعودية      584   \n",
       "53411                             صباحية   السعودية      584   \n",
       "53412                         موازين قوى   السعودية      584   \n",
       "53413                               سؤال   السعودية      584   \n",
       "53414                             مجاسدة   السعودية      584   \n",
       "53415                             سن يأس   السعودية      584   \n",
       "53416                                ثقب   السعودية      584   \n",
       "53417              بين المنام واليقظة !    السعودية      584   \n",
       "53418                             كره !!   السعودية      584   \n",
       "53419              إلى متى نحتسي البحر ؟   السعودية      584   \n",
       "53420                             الحية    السعودية      584   \n",
       "53421                             الوحل    السعودية      584   \n",
       "53422                            بحيرات    السعودية      584   \n",
       "53423                            الطيور    السعودية      584   \n",
       "53424                           الأسرار    السعودية      584   \n",
       "53425                           الصبايا    السعودية      584   \n",
       "53426                            ورقة ..   السعودية      584   \n",
       "53427                              قفـص    السعودية      584   \n",
       "53428                           العباءة    السعودية      584   \n",
       "53429                             التاج    السعودية      584   \n",
       "53430                           المكيّف    السعودية      584   \n",
       "53431                      دلّة القهوة !   السعودية      584   \n",
       "53432                           نافورة..   السعودية      584   \n",
       "53433          لن يسرقوا الله من وجهك !!   السعودية      584   \n",
       "53434                           الحــذاء   السعودية      584   \n",
       "53435                            الساعـة   السعودية      584   \n",
       "53436                 ملقى على مشجب خشبي   السعودية      584   \n",
       "53437                              حسناء   السعودية      584   \n",
       "53438  قراءة فى السر لتاريخ الصمت العربى   السعودية      584   \n",
       "\n",
       "                                               poet_link           poet_name  \n",
       "1177   http://www.adab.com/modules.php?name=Sh3er&doW...  عبدالرحمن العشماوي  \n",
       "53407  http://www.adab.com/modules.php?name=Sh3er&doW...      فوزية أبوخالد   \n",
       "53408  http://www.adab.com/modules.php?name=Sh3er&doW...      فوزية أبوخالد   \n",
       "53409  http://www.adab.com/modules.php?name=Sh3er&doW...      فوزية أبوخالد   \n",
       "53410  http://www.adab.com/modules.php?name=Sh3er&doW...      فوزية أبوخالد   \n",
       "53411  http://www.adab.com/modules.php?name=Sh3er&doW...      فوزية أبوخالد   \n",
       "53412  http://www.adab.com/modules.php?name=Sh3er&doW...      فوزية أبوخالد   \n",
       "53413  http://www.adab.com/modules.php?name=Sh3er&doW...      فوزية أبوخالد   \n",
       "53414  http://www.adab.com/modules.php?name=Sh3er&doW...      فوزية أبوخالد   \n",
       "53415  http://www.adab.com/modules.php?name=Sh3er&doW...      فوزية أبوخالد   \n",
       "53416  http://www.adab.com/modules.php?name=Sh3er&doW...      فوزية أبوخالد   \n",
       "53417  http://www.adab.com/modules.php?name=Sh3er&doW...      فوزية أبوخالد   \n",
       "53418  http://www.adab.com/modules.php?name=Sh3er&doW...      فوزية أبوخالد   \n",
       "53419  http://www.adab.com/modules.php?name=Sh3er&doW...      فوزية أبوخالد   \n",
       "53420  http://www.adab.com/modules.php?name=Sh3er&doW...      فوزية أبوخالد   \n",
       "53421  http://www.adab.com/modules.php?name=Sh3er&doW...      فوزية أبوخالد   \n",
       "53422  http://www.adab.com/modules.php?name=Sh3er&doW...      فوزية أبوخالد   \n",
       "53423  http://www.adab.com/modules.php?name=Sh3er&doW...      فوزية أبوخالد   \n",
       "53424  http://www.adab.com/modules.php?name=Sh3er&doW...      فوزية أبوخالد   \n",
       "53425  http://www.adab.com/modules.php?name=Sh3er&doW...      فوزية أبوخالد   \n",
       "53426  http://www.adab.com/modules.php?name=Sh3er&doW...      فوزية أبوخالد   \n",
       "53427  http://www.adab.com/modules.php?name=Sh3er&doW...      فوزية أبوخالد   \n",
       "53428  http://www.adab.com/modules.php?name=Sh3er&doW...      فوزية أبوخالد   \n",
       "53429  http://www.adab.com/modules.php?name=Sh3er&doW...      فوزية أبوخالد   \n",
       "53430  http://www.adab.com/modules.php?name=Sh3er&doW...      فوزية أبوخالد   \n",
       "53431  http://www.adab.com/modules.php?name=Sh3er&doW...      فوزية أبوخالد   \n",
       "53432  http://www.adab.com/modules.php?name=Sh3er&doW...      فوزية أبوخالد   \n",
       "53433  http://www.adab.com/modules.php?name=Sh3er&doW...      فوزية أبوخالد   \n",
       "53434  http://www.adab.com/modules.php?name=Sh3er&doW...      فوزية أبوخالد   \n",
       "53435  http://www.adab.com/modules.php?name=Sh3er&doW...      فوزية أبوخالد   \n",
       "53436  http://www.adab.com/modules.php?name=Sh3er&doW...      فوزية أبوخالد   \n",
       "53437  http://www.adab.com/modules.php?name=Sh3er&doW...      فوزية أبوخالد   \n",
       "53438  http://www.adab.com/modules.php?name=Sh3er&doW...      فوزية أبوخالد   "
      ]
     },
     "execution_count": 8,
     "metadata": {},
     "output_type": "execute_result"
    }
   ],
   "source": [
    "df[df['poem_style']=='-']"
   ]
  },
  {
   "cell_type": "code",
   "execution_count": 10,
   "metadata": {},
   "outputs": [
    {
     "data": {
      "text/html": [
       "<div>\n",
       "<style scoped>\n",
       "    .dataframe tbody tr th:only-of-type {\n",
       "        vertical-align: middle;\n",
       "    }\n",
       "\n",
       "    .dataframe tbody tr th {\n",
       "        vertical-align: top;\n",
       "    }\n",
       "\n",
       "    .dataframe thead th {\n",
       "        text-align: right;\n",
       "    }\n",
       "</style>\n",
       "<table border=\"1\" class=\"dataframe\">\n",
       "  <thead>\n",
       "    <tr style=\"text-align: right;\">\n",
       "      <th></th>\n",
       "      <th>poem_link</th>\n",
       "      <th>poem_style</th>\n",
       "      <th>poem_text</th>\n",
       "      <th>poem_title</th>\n",
       "      <th>poet_cat</th>\n",
       "      <th>poet_link</th>\n",
       "      <th>poet_name</th>\n",
       "    </tr>\n",
       "  </thead>\n",
       "  <tbody>\n",
       "    <tr>\n",
       "      <th>count</th>\n",
       "      <td>58021</td>\n",
       "      <td>58021</td>\n",
       "      <td>58020</td>\n",
       "      <td>58021</td>\n",
       "      <td>58021</td>\n",
       "      <td>58021</td>\n",
       "      <td>58021</td>\n",
       "    </tr>\n",
       "    <tr>\n",
       "      <th>unique</th>\n",
       "      <td>58021</td>\n",
       "      <td>3</td>\n",
       "      <td>57693</td>\n",
       "      <td>56872</td>\n",
       "      <td>26</td>\n",
       "      <td>652</td>\n",
       "      <td>652</td>\n",
       "    </tr>\n",
       "    <tr>\n",
       "      <th>top</th>\n",
       "      <td>http://www.adab.com/modules.php?name=Sh3er&amp;doW...</td>\n",
       "      <td>فصحى</td>\n",
       "      <td>اذا الرتبة العليا اتك اثابة وفاروق عالي الراس...</td>\n",
       "      <td>الشاعر</td>\n",
       "      <td>العصر العباسي</td>\n",
       "      <td>http://www.adab.com/modules.php?name=Sh3er&amp;doW...</td>\n",
       "      <td>ابن الرومي</td>\n",
       "    </tr>\n",
       "    <tr>\n",
       "      <th>freq</th>\n",
       "      <td>1</td>\n",
       "      <td>57894</td>\n",
       "      <td>3</td>\n",
       "      <td>17</td>\n",
       "      <td>19417</td>\n",
       "      <td>2142</td>\n",
       "      <td>2142</td>\n",
       "    </tr>\n",
       "  </tbody>\n",
       "</table>\n",
       "</div>"
      ],
      "text/plain": [
       "                                                poem_link poem_style  \\\n",
       "count                                               58021      58021   \n",
       "unique                                              58021          3   \n",
       "top     http://www.adab.com/modules.php?name=Sh3er&doW...       فصحى   \n",
       "freq                                                    1      57894   \n",
       "\n",
       "                                                poem_text poem_title  \\\n",
       "count                                               58020      58021   \n",
       "unique                                              57693      56872   \n",
       "top      اذا الرتبة العليا اتك اثابة وفاروق عالي الراس...    الشاعر    \n",
       "freq                                                    3         17   \n",
       "\n",
       "             poet_cat                                          poet_link  \\\n",
       "count           58021                                              58021   \n",
       "unique             26                                                652   \n",
       "top     العصر العباسي  http://www.adab.com/modules.php?name=Sh3er&doW...   \n",
       "freq            19417                                               2142   \n",
       "\n",
       "         poet_name  \n",
       "count        58021  \n",
       "unique         652  \n",
       "top     ابن الرومي  \n",
       "freq          2142  "
      ]
     },
     "execution_count": 10,
     "metadata": {},
     "output_type": "execute_result"
    }
   ],
   "source": [
    "df.describe(include=['O'])"
   ]
  },
  {
   "attachments": {},
   "cell_type": "markdown",
   "metadata": {},
   "source": [
    "## Cleening "
   ]
  },
  {
   "cell_type": "code",
   "execution_count": 15,
   "metadata": {},
   "outputs": [],
   "source": [
    "data=df.copy()"
   ]
  },
  {
   "cell_type": "code",
   "execution_count": 16,
   "metadata": {},
   "outputs": [],
   "source": [
    "df.dropna(inplace=True)"
   ]
  },
  {
   "cell_type": "code",
   "execution_count": 17,
   "metadata": {},
   "outputs": [
    {
     "data": {
      "text/plain": [
       "poem_id       0\n",
       "poem_link     0\n",
       "poem_style    0\n",
       "poem_text     0\n",
       "poem_title    0\n",
       "poet_cat      0\n",
       "poet_id       0\n",
       "poet_link     0\n",
       "poet_name     0\n",
       "dtype: int64"
      ]
     },
     "execution_count": 17,
     "metadata": {},
     "output_type": "execute_result"
    }
   ],
   "source": [
    "df.isna().sum()"
   ]
  },
  {
   "cell_type": "code",
   "execution_count": 19,
   "metadata": {},
   "outputs": [],
   "source": [
    "df['poem_style']=df['poem_style'].str.replace('-','فصحى')"
   ]
  },
  {
   "cell_type": "code",
   "execution_count": 20,
   "metadata": {},
   "outputs": [],
   "source": [
    "df.drop_duplicates(subset=['poem_text'],inplace=True)"
   ]
  },
  {
   "cell_type": "code",
   "execution_count": 21,
   "metadata": {},
   "outputs": [
    {
     "data": {
      "text/plain": [
       "poem_link     57693\n",
       "poem_style        2\n",
       "poem_text     57693\n",
       "poem_title    56574\n",
       "poet_cat         26\n",
       "poet_link       652\n",
       "poet_name       652\n",
       "dtype: int64"
      ]
     },
     "execution_count": 21,
     "metadata": {},
     "output_type": "execute_result"
    }
   ],
   "source": [
    "df.select_dtypes(exclude='number').nunique()"
   ]
  },
  {
   "cell_type": "code",
   "execution_count": 22,
   "metadata": {},
   "outputs": [
    {
     "data": {
      "text/plain": [
       "poem_id    57693\n",
       "poet_id      652\n",
       "dtype: int64"
      ]
     },
     "execution_count": 22,
     "metadata": {},
     "output_type": "execute_result"
    }
   ],
   "source": [
    "df.select_dtypes(include='number').nunique()"
   ]
  },
  {
   "attachments": {},
   "cell_type": "markdown",
   "metadata": {},
   "source": [
    "### EDA "
   ]
  },
  {
   "cell_type": "code",
   "execution_count": 24,
   "metadata": {},
   "outputs": [],
   "source": [
    "Per_Cat=df.poet_cat.value_counts().to_frame().reset_index()\n",
    "Per_Cat.columns=['poet_cat','value']\n",
    "Per_Cat['percentage_cat']=(Per_Cat['value']/Per_Cat['value'].sum())*100\n",
    "Per_Cat=Per_Cat.iloc[:,]"
   ]
  },
  {
   "cell_type": "code",
   "execution_count": 32,
   "metadata": {},
   "outputs": [
    {
     "data": {
      "image/png": "[encoded data removed]",
      "text/plain": [
       "<IPython.core.display.Image object>"
      ]
     },
     "execution_count": 32,
     "metadata": {},
     "output_type": "execute_result"
    }
   ],
   "source": [
    "fig=px.bar(Per_Cat,x='poet_cat',y='percentage_cat',color_discrete_sequence=px.colors.qualitative.G10,text='value',width=1100)\n",
    "img_bytes = fig.to_image(format=\"png\")\n",
    "\n",
    "Image(img_bytes)"
   ]
  },
  {
   "cell_type": "code",
   "execution_count": 126,
   "metadata": {},
   "outputs": [
    {
     "data": {
      "text/plain": [
       "فصحى    57599\n",
       "عامي       94\n",
       "Name: poem_style, dtype: int64"
      ]
     },
     "execution_count": 126,
     "metadata": {},
     "output_type": "execute_result"
    }
   ],
   "source": [
    "df.poem_style.value_counts()"
   ]
  },
  {
   "cell_type": "code",
   "execution_count": 34,
   "metadata": {},
   "outputs": [
    {
     "data": {
      "image/png": "[encoded data removed]",
      "text/plain": [
       "<IPython.core.display.Image object>"
      ]
     },
     "execution_count": 34,
     "metadata": {},
     "output_type": "execute_result"
    }
   ],
   "source": [
    "vis_2=df['poet_name'].value_counts().to_frame().reset_index()\n",
    "vis_2.columns=['poet','count']\n",
    "vis_2=vis_2.nlargest(5,'count')\n",
    "\n",
    "\n",
    "fig=px.bar(vis_2,x='poet',y='count',color_discrete_sequence=px.colors.qualitative.G10,text='count',width=1100)\n",
    "img_bytes = fig.to_image(format=\"png\")\n",
    "\n",
    "Image(img_bytes)\n"
   ]
  },
  {
   "attachments": {},
   "cell_type": "markdown",
   "metadata": {},
   "source": [
    "## Preproccessing"
   ]
  },
  {
   "attachments": {},
   "cell_type": "markdown",
   "metadata": {},
   "source": [
    "#### 3.1 Text_Cleaning"
   ]
  },
  {
   "cell_type": "code",
   "execution_count": 35,
   "metadata": {},
   "outputs": [],
   "source": [
    "arabic_punctuations='!\"#$%&\\'()*+,-./:;<=>?@[\\\\]^_`{|}~،؛؟”“``….'+'0123456789'\n",
    "\n",
    "def Remove_punctuations(txt):\n",
    "    return txt.translate(str.maketrans('', '', arabic_punctuations))\n",
    "\n",
    "def Text_Cleaning(text):\n",
    "    text=pyarabic.trans.normalize_digits(text, source='all', out='west') # convert diffrent type of numbers into E number\n",
    "    text = re.sub(\"[a-zA-Z]\", \"\", text) # remove english letters\n",
    "    text = re.sub(r\"\\s+\", ' ',text) #remove long spaces \n",
    "\n",
    "    text = text.translate(str.maketrans('','', arabic_punctuations)) # remove punctuation\n",
    "    text = re.sub(' +', ' ',text) # remove extra space\n",
    "    return text\n"
   ]
  },
  {
   "attachments": {},
   "cell_type": "markdown",
   "metadata": {},
   "source": [
    "#### 3.2 Normalization"
   ]
  },
  {
   "cell_type": "code",
   "execution_count": 36,
   "metadata": {},
   "outputs": [],
   "source": [
    "def normlize(text):\n",
    "    text = re.sub(\"ة\", \"ه\", text)\n",
    "    text = re.sub(\"[إأآا]\", \"ا\", text)\n",
    "    text=araby.normalize_hamza(text)\n",
    "    text=normalize_ligature(text)\n",
    "    text=strip_tashkeel(text)\n",
    "    return text"
   ]
  },
  {
   "attachments": {},
   "cell_type": "markdown",
   "metadata": {},
   "source": [
    "#### 3.3 Tokenization and Removing Stop Words"
   ]
  },
  {
   "attachments": {},
   "cell_type": "markdown",
   "metadata": {},
   "source": [
    "- The stop words that have been installed do not comply with preprocessing, so  we need to apply preprocessing functions to the stop words first."
   ]
  },
  {
   "cell_type": "code",
   "execution_count": 37,
   "metadata": {},
   "outputs": [
    {
     "data": {
      "text/plain": [
       "True"
      ]
     },
     "execution_count": 37,
     "metadata": {},
     "output_type": "execute_result"
    }
   ],
   "source": [
    "df['poem_text'].str.contains('اليك').any()\n"
   ]
  },
  {
   "cell_type": "code",
   "execution_count": 38,
   "metadata": {},
   "outputs": [
    {
     "name": "stdout",
     "output_type": "stream",
     "text": [
      "Found\n"
     ]
    }
   ],
   "source": [
    "for item in stopwords.words('arabic'):\n",
    "    if item=='اليك':\n",
    "        print(\"Not Found\")\n",
    "    elif item=='إليك':\n",
    "        print(\"Found\")"
   ]
  },
  {
   "cell_type": "code",
   "execution_count": 39,
   "metadata": {},
   "outputs": [],
   "source": [
    "Arabic_stopwords=[]\n",
    "for item in stopwords.words('arabic'):\n",
    "    Arabic_stopwords.append(normlize(item))"
   ]
  },
  {
   "cell_type": "code",
   "execution_count": 40,
   "metadata": {},
   "outputs": [],
   "source": [
    "def Tokens_Stop_Words(text):\n",
    "    tokens = araby.tokenize(text)\n",
    "    return [w for w in tokens if w not in Arabic_stopwords ]"
   ]
  },
  {
   "attachments": {},
   "cell_type": "markdown",
   "metadata": {},
   "source": [
    "### 3.4 Stemming"
   ]
  },
  {
   "cell_type": "code",
   "execution_count": null,
   "metadata": {},
   "outputs": [],
   "source": []
  },
  {
   "cell_type": "code",
   "execution_count": 41,
   "metadata": {},
   "outputs": [],
   "source": [
    "from nltk.stem.isri import ISRIStemmer\n",
    "stemmer = ARLSTem2()\n",
    "ISRIS_st = ISRIStemmer()\n",
    "def stem(arr):\n",
    "    arr=[stemmer.stem(word) for word in arr]\n",
    "    return ' '.join(arr)\n"
   ]
  },
  {
   "cell_type": "code",
   "execution_count": 42,
   "metadata": {},
   "outputs": [],
   "source": [
    "df['poem_text']=df['poem_text'].apply(Text_Cleaning).apply(Remove_punctuations).apply(normlize).apply(Tokens_Stop_Words).apply(stem)\n",
    "df['poet_cat']=df['poet_cat'].apply(Text_Cleaning).apply(Remove_punctuations).apply(normlize)"
   ]
  },
  {
   "cell_type": "code",
   "execution_count": 43,
   "metadata": {},
   "outputs": [],
   "source": [
    "test_sample=df.sample(5).index\n",
    "\n",
    "# get test sample \n",
    "# indexs=[x for x in test_sample]\n",
    "index1=test_sample[0]\n",
    "index2=test_sample[1]\n",
    "index3=test_sample[2]\n",
    "index4=test_sample[3]\n",
    "index5=test_sample[4]\n",
    "\n",
    "test_sample_1=df.iloc[index1,[3,5]]\n",
    "test_sample_2=df.iloc[index2,[3,5]]\n",
    "test_sample_3=df.iloc[index1,[3,5]]\n",
    "test_sample_4=df.iloc[index2,[3,5]]\n",
    "test_sample_5=df.iloc[index1,[3,5]]\n",
    "\n",
    "\n",
    "df.drop([index1,index2,index3,index4,index5],axis=0,inplace=True)"
   ]
  },
  {
   "cell_type": "code",
   "execution_count": 45,
   "metadata": {},
   "outputs": [],
   "source": [
    "df_test=df.copy()"
   ]
  },
  {
   "cell_type": "code",
   "execution_count": 159,
   "metadata": {},
   "outputs": [],
   "source": [
    "labels=['العصر العباسي', 'العصر الاندلسي', 'سوريا', 'مصر', 'لبنان', 'العراق','العصر الاسلامي', 'السعوديه', 'فلسطين', 'العصر الجاهلي', 'اليمن',\n",
    "       'عمان', 'البحرين', 'الامارات', 'السودان', 'الجزاءر', 'تونس', 'الاردن','ليبيا', 'المغرب', 'ايران', 'افغانستان', 'شعراء العراق والشام','الكويت', 'موريتانيا', 'قطر']\n",
    "# df_test=pd.DataFrame()\n",
    "\n",
    "# for item in labels:\n",
    "\n",
    "#     length=round((df[df['poet_cat']==item].shape[0])/3)\n",
    "#     temp=df[df['poet_cat']==item].sample(length)\n",
    "#     df_test=pd.concat([df_test,temp])"
   ]
  },
  {
   "cell_type": "code",
   "execution_count": 154,
   "metadata": {},
   "outputs": [
    {
     "data": {
      "text/plain": [
       "Index(['العصر العباسي', 'العصر الاندلسي', 'سوريا', 'مصر', 'لبنان', 'العراق',\n",
       "       'العصر الاسلامي', 'السعوديه', 'فلسطين', 'العصر الجاهلي', 'اليمن',\n",
       "       'عمان', 'البحرين', 'الامارات', 'السودان', 'الجزاءر', 'تونس', 'الاردن',\n",
       "       'ليبيا', 'المغرب', 'ايران', 'افغانستان', 'شعراء العراق والشام',\n",
       "       'الكويت', 'موريتانيا', 'قطر'],\n",
       "      dtype='object')"
      ]
     },
     "execution_count": 154,
     "metadata": {},
     "output_type": "execute_result"
    }
   ],
   "source": [
    "df_test.poet_cat.value_counts()"
   ]
  },
  {
   "attachments": {},
   "cell_type": "markdown",
   "metadata": {},
   "source": [
    "## Approch 1 \n",
    "\n",
    "#### Assumtions based on data analysis:\n",
    "\n",
    "- conseder   'العراق', 'سوريا', 'مصر', 'تونس', 'السعوديه', 'لبنان', 'فلسطين',\n",
    "'اليمن',  'السودان', 'البحرين','ليبيا', 'عمان', 'المغرب',\n",
    "       'الجزاءر', 'الامارات', 'الاردن', 'الكويت', 'قطر', 'موريتانيا',\n",
    "       'شعراء العراق والشام'and  'افغانستان', 'ايران' as 'الشعر الحديث'\n",
    "\n",
    "       \n",
    "- The poem without harakat\n",
    "\n",
    "\n",
    "### Model Used : \n",
    "- i will train three diffrent models with grid search to find the best model and the best hyper pprameters "
   ]
  },
  {
   "cell_type": "code",
   "execution_count": 46,
   "metadata": {},
   "outputs": [],
   "source": [
    "# in this case only i dived the data 50% , becouse it takes so long time to finsh the traning, and the reson lead me to do  \n",
    "# df_test=df.copy()\n",
    "# df_test=df_test.sample(round(57691/2))\n",
    "\n",
    "\n",
    "\n",
    "df_test['poet_cat']=df_test.poet_cat.replace(dict.fromkeys([\n",
    "  'العراق', 'سوريا', 'مصر', 'تونس', 'السعوديه', 'لبنان', 'فلسطين',\n",
    "       'اليمن',  'السودان', 'البحرين','ليبيا', 'عمان', 'المغرب',\n",
    "       'الجزاءر', 'الامارات', 'الاردن', 'الكويت', 'قطر', 'موريتانيا',\n",
    "       'شعراء العراق والشام', 'افغانستان', 'ايران'], 'الشعر الحديث'))\n",
    "\n",
    "\n",
    "X=df_test['poem_text']\n",
    "y=df_test['poet_cat']\n",
    "\n",
    "\n",
    "tfidf=TfidfVectorizer( min_df=20, max_features=500,ngram_range=(1, 2),lowercase=False)\n",
    "X=tfidf.fit_transform(X).toarray()\n",
    "X_train, X_test, y_train, y_test = train_test_split(X, y, test_size=0.2, random_state=42)"
   ]
  },
  {
   "cell_type": "code",
   "execution_count": 104,
   "metadata": {},
   "outputs": [
    {
     "name": "stdout",
     "output_type": "stream",
     "text": [
      "Done Model\n"
     ]
    },
    {
     "name": "stderr",
     "output_type": "stream",
     "text": [
      "c:\\Users\\P1\\anaconda3\\envs\\Project1\\lib\\site-packages\\sklearn\\metrics\\_classification.py:1344: UndefinedMetricWarning:\n",
      "\n",
      "Precision is ill-defined and being set to 0.0 in labels with no predicted samples. Use `zero_division` parameter to control this behavior.\n",
      "\n"
     ]
    },
    {
     "name": "stdout",
     "output_type": "stream",
     "text": [
      "Done Model\n",
      "Done Model\n"
     ]
    }
   ],
   "source": [
    "\n",
    "\n",
    "\n",
    "models = [\n",
    "    RandomForestClassifier(random_state=42),\n",
    "    MultinomialNB(),\n",
    "    SGDClassifier(random_state=42)\n",
    "]\n",
    "\n",
    "\n",
    "\n",
    "grid_params = [\n",
    "    {'n_estimators': [100, 300],'max_features': ['sqrt', 'log2'],'criterion' :['gini', 'entropy']},\n",
    "    {\"alpha\": [0.1, 0.5, 1.0]},\n",
    "    {\"loss\": [\"hinge\", \"log_loss\", \"modified_huber\"], \"penalty\": [\"l2\", \"l1\", \"elasticnet\"]}\n",
    "]\n",
    "\n",
    "\n",
    "\n",
    "results = []\n",
    "best_params=[]\n",
    "\n",
    "for model, params in zip(models, grid_params):\n",
    "\n",
    "    # Model buliding and traning \n",
    "    clf = GridSearchCV(model, params, cv=5)\n",
    "    clf.fit(X_train, y_train)\n",
    "    y_pred = clf.predict(X_test)\n",
    "\n",
    "    # Evalutuin \n",
    "    accuracy = accuracy_score(y_test, y_pred)\n",
    "    recall = recall_score(y_test, y_pred, average='macro')\n",
    "    precision = precision_score(y_test, y_pred, average='macro')\n",
    "\n",
    "    # Stoeing the hyperprameters and results\n",
    "    best_params.append((type(model).__name__,clf.best_estimator_))\n",
    "    results.append((type(model).__name__, accuracy, recall, precision))\n",
    "    print(\"Done Model\")"
   ]
  },
  {
   "cell_type": "code",
   "execution_count": 14,
   "metadata": {},
   "outputs": [
    {
     "data": {
      "image/png": "[encoded data removed]",
      "text/plain": [
       "<IPython.core.display.Image object>"
      ]
     },
     "execution_count": 14,
     "metadata": {},
     "output_type": "execute_result"
    }
   ],
   "source": [
    "results_df = pd.DataFrame(results, columns=[\"Model\", \"Accuracy\", \"Recall\", \"Precision\"])\n",
    "results_df=results_df.melt(id_vars='Model', var_name='Metric', value_name='Value')\n",
    "# Plot the results\n",
    "fig = px.line(results_df, x=\"Model\", y=\"Value\", color=\"Metric\", title=\"Accuracy\")\n",
    "img_bytes = fig.to_image(format=\"png\")\n",
    "\n",
    "Image(img_bytes)"
   ]
  },
  {
   "attachments": {},
   "cell_type": "markdown",
   "metadata": {},
   "source": [
    "## Model 1\n",
    "\n",
    "### Model Buliding \n",
    "\n",
    "### Model Used : 'RndomForest' \n",
    "- As we see above, Random Forest and SGDClassifier are almost similar, but I chose to use Random Forest due to its ability to handle class imbalance and reduce the risk of overfitting."
   ]
  },
  {
   "cell_type": "code",
   "execution_count": 54,
   "metadata": {},
   "outputs": [],
   "source": [
    "def model(X,y):\n",
    "    # split the data \n",
    "    X_train, X_test, y_train, y_test = train_test_split(X, y, test_size=0.2, random_state=42)\n",
    "\n",
    "    #  ** the hyperprameteri have beed difiede after using Grid Search ***\n",
    "    text_clf_RF= Pipeline([('tfidf', TfidfVectorizer( min_df=20, max_features=500,ngram_range=(1, 2),lowercase=False)),\n",
    "                     ('clf', RandomForestClassifier(criterion= 'gini',max_features='log2',n_estimators=500,oob_score=True,random_state=42))])\n",
    "\n",
    "    # Model traing\n",
    "    text_clf_RF.fit(X_train, y_train)\n",
    "    cv_scores = cross_val_score(text_clf_RF, X_train, y_train, cv=5)\n",
    "\n",
    "\n",
    "    # Make predictions on the test set\n",
    "    y_pred = text_clf_RF.predict(X_test)\n",
    "\n",
    "\n",
    "    # Evalutuin \n",
    "    accuracy = accuracy_score(y_test, y_pred)\n",
    "    recall = recall_score(y_test, y_pred, average='macro')\n",
    "    precision = precision_score(y_test, y_pred, average='macro')\n",
    "\n",
    "\n",
    "    print(metrics.classification_report(y_test,y_pred))\n",
    "    print(\"Accuracy is:  \",accuracy)\n",
    "    print(\"Precision is:  \",precision)\n",
    "    print(\"Recall is:  \",recall)\n",
    "\n",
    "    return text_clf_RF ,cv_scores"
   ]
  },
  {
   "cell_type": "code",
   "execution_count": 55,
   "metadata": {},
   "outputs": [],
   "source": [
    "def predection_preprocessing(txt):\n",
    "    txt=pd.Series(data=txt)\n",
    "    txt=txt.apply(Text_Cleaning).apply(Remove_punctuations).apply(normlize).apply(Tokens_Stop_Words).apply(stem)\n",
    "    return txt\n",
    "    \n",
    "\n",
    "    \n",
    "def model_test(model):\n",
    "    global test_sample_1 , test_sample_2\n",
    "\n",
    "    test1=predection_preprocessing(test_sample_1[0])\n",
    "    test2=predection_preprocessing(test_sample_2[0])\n",
    "\n",
    "    pred1=model.predict(test1)[0]\n",
    "    pred2=model.predict(test2)[0]\n",
    "\n",
    "    print(\"The actual value is:  \"+ test_sample_1[1])\n",
    "    print(\"The predection value is:  \"+ pred1)\n",
    "\n",
    "    print(\"\\n______________________________________\\n\")\n",
    "\n",
    "    print(\"The actual value is:  \"+ test_sample_2[1])\n",
    "    print(\"The predection value is:  \"+ pred2)"
   ]
  },
  {
   "attachments": {},
   "cell_type": "markdown",
   "metadata": {},
   "source": [
    "### Model Training"
   ]
  },
  {
   "cell_type": "code",
   "execution_count": 56,
   "metadata": {},
   "outputs": [
    {
     "name": "stdout",
     "output_type": "stream",
     "text": [
      "                precision    recall  f1-score   support\n",
      "\n",
      "  الشعر الحديث       0.71      0.84      0.77      5386\n",
      "العصر الاسلامي       0.35      0.02      0.04       715\n",
      "العصر الاندلسي       0.51      0.01      0.03      1317\n",
      " العصر الجاهلي       0.27      0.01      0.03       289\n",
      " العصر العباسي       0.55      0.72      0.62      3831\n",
      "\n",
      "      accuracy                           0.63     11538\n",
      "     macro avg       0.48      0.32      0.30     11538\n",
      "  weighted avg       0.60      0.63      0.57     11538\n",
      "\n",
      "Accuracy is:   0.6335586756803605\n",
      "Precision is:   0.4761391560155306\n",
      "Recall is:   0.32127149628504537\n"
     ]
    }
   ],
   "source": [
    "X=df_test['poem_text']\n",
    "y=df_test['poet_cat']\n",
    "\n",
    "model_1,cv_scores=model(X,y)\n",
    "\n",
    "\n"
   ]
  },
  {
   "attachments": {},
   "cell_type": "markdown",
   "metadata": {},
   "source": [
    "### Performance Report"
   ]
  },
  {
   "cell_type": "code",
   "execution_count": 12,
   "metadata": {},
   "outputs": [
    {
     "data": {
      "image/png": "[encoded data removed]",
      "text/plain": [
       "<IPython.core.display.Image object>"
      ]
     },
     "execution_count": 12,
     "metadata": {},
     "output_type": "execute_result"
    }
   ],
   "source": [
    "# create a dataframe to store the validation and testing scores\n",
    "scores = pd.DataFrame(data={\n",
    "    'Fold': ['Fold 1','Fold 2','Fold 3','Fold 4','Fold 5'],\n",
    "    'Validation Score': cv_scores,\n",
    "})\n",
    "\n",
    "# # plot the validation and testing scores using Plotly\n",
    "fig = px.line(scores, x='Fold', y='Validation Score',title='Validation Score for Model 1')\n",
    "img_bytes = fig.to_image(format=\"png\")\n",
    "\n",
    "Image(img_bytes)"
   ]
  },
  {
   "attachments": {},
   "cell_type": "markdown",
   "metadata": {},
   "source": [
    "Test"
   ]
  },
  {
   "cell_type": "code",
   "execution_count": 223,
   "metadata": {},
   "outputs": [
    {
     "name": "stdout",
     "output_type": "stream",
     "text": [
      "The actual value is:  فلسطين\n",
      "The predection value is:  الشعر الحديث\n",
      "\n",
      "______________________________________\n",
      "\n",
      "The actual value is:  العصر العباسي\n",
      "The predection value is:  العصر العباسي\n"
     ]
    }
   ],
   "source": [
    "model_test(model_1)"
   ]
  },
  {
   "attachments": {},
   "cell_type": "markdown",
   "metadata": {},
   "source": [
    "# Model 2\n",
    "- Model 2 Using SMOTE (Synthetic Minority Over-sampling Technique) which is a commonly used oversampling method for dealing with imbalanced datasets in machine learning. "
   ]
  },
  {
   "attachments": {},
   "cell_type": "markdown",
   "metadata": {},
   "source": [
    "###  Model Building"
   ]
  },
  {
   "cell_type": "code",
   "execution_count": 57,
   "metadata": {},
   "outputs": [],
   "source": [
    "def Model_SMOTE(X,y):\n",
    "\n",
    "    # initialize a Random Forest classifier\n",
    "    text_clf = RandomForestClassifier(criterion= 'gini',max_features='log2',n_estimators=500,oob_score=True,random_state=42)\n",
    "    tfidf=TfidfVectorizer( min_df=20, max_features=500,ngram_range=(1, 2),lowercase=False)\n",
    "    smote = SMOTE(sampling_strategy=\"auto\")\n",
    "\n",
    "\n",
    "    X=tfidf.fit_transform(X).toarray()\n",
    "    X_resampled, y_resampled = smote.fit_resample(X, y)\n",
    "    X_train, X_test, y_train, y_test = train_test_split(X_resampled, y_resampled, test_size=0.2, random_state=42)\n",
    "\n",
    "\n",
    "    text_clf.fit(X_train,y_train)\n",
    "    cv_scores2 = cross_val_score(text_clf, X_train, y_train, cv=5)\n",
    "\n",
    "\n",
    "    # Make predictions on the test set\n",
    "    y_pred = text_clf.predict(X_test)\n",
    "\n",
    "\n",
    "    # Evalutuin \n",
    "    accuracy = accuracy_score(y_test, y_pred)\n",
    "    recall = recall_score(y_test, y_pred, average='macro')\n",
    "    precision = precision_score(y_test, y_pred, average='macro')\n",
    "\n",
    "\n",
    "    from sklearn import metrics\n",
    "    print(metrics.classification_report(y_test,y_pred))\n",
    "    print(\"Accuracy is:  \",accuracy)\n",
    "    print(\"Precision is:  \",precision)\n",
    "    print(\"Recall is:  \",recall)\n",
    "\n",
    "    return text_clf ,cv_scores2,tfidf\n",
    "\n",
    "\n",
    "def predict_text_class(model,tfidf):\n",
    "    global test_sample_1 , test_sample_2\n",
    "\n",
    "    test1=predection_preprocessing(test_sample_1[0])\n",
    "    test2=predection_preprocessing(test_sample_2[0])\n",
    "\n",
    "    test1=tfidf.transform(test1)\n",
    "    test2=tfidf.transform(test2)\n",
    "\n",
    "\n",
    "    pred1=model.predict(test1)[0]\n",
    "    pred2=model.predict(test2)[0]\n",
    "\n",
    "    print(\"The actual value is:  \"+ test_sample_1[1])\n",
    "    print(\"The predection value is:  \"+ pred1)\n",
    "\n",
    "    print(\"\\n______________________________________\\n\")\n",
    "\n",
    "    print(\"The actual value is:  \"+ test_sample_2[1])\n",
    "    print(\"The predection value is:  \"+ pred2)"
   ]
  },
  {
   "attachments": {},
   "cell_type": "markdown",
   "metadata": {},
   "source": [
    "### Model Training"
   ]
  },
  {
   "cell_type": "code",
   "execution_count": 58,
   "metadata": {},
   "outputs": [
    {
     "name": "stdout",
     "output_type": "stream",
     "text": [
      "                precision    recall  f1-score   support\n",
      "\n",
      "  الشعر الحديث       0.85      0.78      0.82      5430\n",
      "العصر الاسلامي       0.93      0.96      0.94      5413\n",
      "العصر الاندلسي       0.88      0.93      0.91      5311\n",
      " العصر الجاهلي       0.94      0.99      0.96      5307\n",
      " العصر العباسي       0.78      0.73      0.75      5386\n",
      "\n",
      "      accuracy                           0.88     26847\n",
      "     macro avg       0.88      0.88      0.88     26847\n",
      "  weighted avg       0.88      0.88      0.88     26847\n",
      "\n",
      "Accuracy is:   0.8777144559913584\n",
      "Precision is:   0.8753172309131647\n",
      "Recall is:   0.8782600260321967\n"
     ]
    }
   ],
   "source": [
    "X=df_test['poem_text']\n",
    "y=df_test['poet_cat']\n",
    "model_2,cv_scores2,vectorizer=Model_SMOTE(X,y)"
   ]
  },
  {
   "cell_type": "code",
   "execution_count": 13,
   "metadata": {},
   "outputs": [
    {
     "data": {
      "image/png": "[encoded data removed]",
      "text/plain": [
       "<IPython.core.display.Image object>"
      ]
     },
     "execution_count": 13,
     "metadata": {},
     "output_type": "execute_result"
    }
   ],
   "source": [
    "# create a dataframe to store the validation and testing scores\n",
    "scores = pd.DataFrame(data={\n",
    "    'Fold': ['Fold 1','Fold 2','Fold 3','Fold 4','Fold 5'],\n",
    "    'Validation Score': cv_scores2,\n",
    "})\n",
    "\n",
    "# # plot the validation and testing scores using Plotly\n",
    "fig = px.line(scores, x='Fold', y='Validation Score',title='Validation Score for Model 2')\n",
    "img_bytes = fig.to_image(format=\"png\")\n",
    "\n",
    "Image(img_bytes)"
   ]
  },
  {
   "cell_type": "code",
   "execution_count": 60,
   "metadata": {},
   "outputs": [
    {
     "name": "stdout",
     "output_type": "stream",
     "text": [
      "The actual value is:  العصر الاسلامي\n",
      "The predection value is:  العصر الاسلامي\n",
      "\n",
      "______________________________________\n",
      "\n",
      "The actual value is:  العراق\n",
      "The predection value is:  الشعر الحديث\n"
     ]
    }
   ],
   "source": [
    "predict_text_class(model_2,tfidf)"
   ]
  },
  {
   "attachments": {},
   "cell_type": "markdown",
   "metadata": {},
   "source": [
    "### Model 3\n",
    "\n",
    "- one of the methodologies for dealing with imbalanced data by dividing the dataset into sub-data and deployed it into sub-models.\n",
    "\n"
   ]
  },
  {
   "cell_type": "code",
   "execution_count": 62,
   "metadata": {},
   "outputs": [],
   "source": [
    "label_1=['العصر العباسي']\n",
    "label_2=['لبنان','سوريا','العراق','العصر الاندلسي','العصر الاسلامي','مصر']\n",
    "label_3=['السعوديه',  'فلسطين','العصر الجاهلي']\n",
    "label_4=['تونس', 'اليمن',  'السودان', 'البحرين','ليبيا', 'عمان', 'المغرب','الجزاءر', 'الامارات', 'الاردن', 'الكويت', 'قطر', 'موريتانيا','شعراء العراق والشام', 'افغانستان', 'ايران']\n",
    "\n",
    "label_model_1=label_2+label_3+label_4\n",
    "label_model_2=label_1+label_3+label_4\n",
    "label_model_3=label_1+label_2+label_4\n",
    "label_model_4=label_1+label_2+label_3"
   ]
  },
  {
   "cell_type": "code",
   "execution_count": 63,
   "metadata": {},
   "outputs": [],
   "source": [
    "def label(label):\n",
    "    # get copy of data\n",
    "    df_p3=df.copy()\n",
    "\n",
    "    # replace any aother label as 'وقت اخر'\n",
    "    df_p3['poet_cat']=df_p3.poet_cat.replace(dict.fromkeys(label, 'وقت اخر'))\n",
    "\n",
    "    # get the avrage number of data to avoid imablnce dataset\n",
    "    sample_value=df_p3.loc[df_p3['poet_cat']!='شعر اخر','poet_cat'].value_counts().mean()\n",
    "\n",
    "    # take a sample of  'وقت اخر' class with avrage number of data for each class\n",
    "    df_1=df_p3[df_p3['poet_cat']=='وقت اخر'].sample(round(sample_value))\n",
    "\n",
    "    df_2=df_p3[df_p3['poet_cat']!='وقت اخر']\n",
    "\n",
    "    data=pd.concat([df_1,df_2])\n",
    "\n",
    "    X=data['poem_text']\n",
    "    y=data['poet_cat']\n",
    "\n",
    "\n",
    "    return X,y\n",
    "\n",
    "\n",
    "def predict_text_class(text, model1, model2, model3,model4):\n",
    "    # Preprocess the text\n",
    "    \n",
    "    # Use the first model to make a prediction\n",
    "    pred = model1.predict(text)[0]\n",
    "    \n",
    "    # If the prediction is not exists, use the second model\n",
    "    if pred == 'وقت اخر':\n",
    "        pred = model2.predict(text)[0]\n",
    "        \n",
    "        # If the prediction is not exists, use the third model\n",
    "        if pred == 'وقت اخر':\n",
    "            pred = model3.predict(text)[0]\n",
    "            \n",
    "            # If the prediction is not exists, use the third model\n",
    "            if pred== 'وقت اخر':\n",
    "                pred = model4.predict(text)[0]\n",
    "                \n",
    "    \n",
    "    return pred"
   ]
  },
  {
   "cell_type": "code",
   "execution_count": 64,
   "metadata": {},
   "outputs": [
    {
     "name": "stdout",
     "output_type": "stream",
     "text": [
      "               precision    recall  f1-score   support\n",
      "\n",
      "العصر العباسي       0.67      0.54      0.60      3903\n",
      "      وقت اخر       0.72      0.82      0.77      5746\n",
      "\n",
      "     accuracy                           0.71      9649\n",
      "    macro avg       0.70      0.68      0.68      9649\n",
      " weighted avg       0.70      0.71      0.70      9649\n",
      "\n",
      "Accuracy is:   0.7063944450202093\n",
      "Precision is:   0.6972779973765959\n",
      "Recall is:   0.6791908131749396\n"
     ]
    }
   ],
   "source": [
    "X,y=label(label_model_1)\n",
    "model3_1,cv_scores3_1=model(X,y)\n"
   ]
  },
  {
   "cell_type": "code",
   "execution_count": 65,
   "metadata": {},
   "outputs": [
    {
     "name": "stdout",
     "output_type": "stream",
     "text": [
      "                precision    recall  f1-score   support\n",
      "\n",
      "        العراق       0.51      0.23      0.32       844\n",
      "العصر الاسلامي       0.48      0.26      0.34       709\n",
      "العصر الاندلسي       0.44      0.52      0.48      1246\n",
      "         سوريا       0.46      0.54      0.50       982\n",
      "         لبنان       0.69      0.40      0.51       938\n",
      "           مصر       0.49      0.34      0.40       955\n",
      "       وقت اخر       0.31      0.52      0.39      1694\n",
      "\n",
      "      accuracy                           0.43      7368\n",
      "     macro avg       0.49      0.40      0.42      7368\n",
      "  weighted avg       0.47      0.43      0.42      7368\n",
      "\n",
      "Accuracy is:   0.4256243213897937\n",
      "Precision is:   0.4860537225846874\n",
      "Recall is:   0.40121103904674704\n"
     ]
    }
   ],
   "source": [
    "X,y=label(label_model_2)\n",
    "model3_2,cv_scores3_2=model(X,y)"
   ]
  },
  {
   "cell_type": "code",
   "execution_count": 66,
   "metadata": {},
   "outputs": [
    {
     "name": "stdout",
     "output_type": "stream",
     "text": [
      "               precision    recall  f1-score   support\n",
      "\n",
      "     السعوديه       1.00      0.01      0.01       378\n",
      "العصر الجاهلي       0.44      0.04      0.08       291\n",
      "       فلسطين       1.00      0.00      0.01       315\n",
      "      وقت اخر       0.75      0.99      0.86      2920\n",
      "\n",
      "     accuracy                           0.75      3904\n",
      "    macro avg       0.80      0.26      0.24      3904\n",
      " weighted avg       0.77      0.75      0.65      3904\n",
      "\n",
      "Accuracy is:   0.7479508196721312\n",
      "Precision is:   0.7985788447197844\n",
      "Recall is:   0.2611414338915751\n"
     ]
    }
   ],
   "source": [
    "X,y=label(label_model_3)\n",
    "model3_3,cv_scores3_3=model(X,y)"
   ]
  },
  {
   "cell_type": "code",
   "execution_count": 67,
   "metadata": {},
   "outputs": [
    {
     "name": "stdout",
     "output_type": "stream",
     "text": [
      "                     precision    recall  f1-score   support\n",
      "\n",
      "          افغانستان       0.00      0.00      0.00        14\n",
      "             الاردن       0.00      0.00      0.00        45\n",
      "           الامارات       0.50      0.03      0.06        94\n",
      "            البحرين       0.90      0.20      0.33        89\n",
      "            الجزاءر       0.50      0.01      0.02        85\n",
      "            السودان       0.89      0.23      0.37        73\n",
      "             الكويت       0.00      0.00      0.00        19\n",
      "             المغرب       0.00      0.00      0.00        38\n",
      "              اليمن       0.90      0.06      0.10       163\n",
      "              ايران       0.00      0.00      0.00        19\n",
      "               تونس       1.00      0.03      0.06        67\n",
      "شعراء العراق والشام       0.00      0.00      0.00         9\n",
      "               عمان       0.67      0.02      0.03       124\n",
      "                قطر       0.00      0.00      0.00         5\n",
      "              ليبيا       0.00      0.00      0.00        45\n",
      "          موريتانيا       0.00      0.00      0.00         6\n",
      "            وقت اخر       0.45      0.99      0.62       704\n",
      "\n",
      "           accuracy                           0.47      1599\n",
      "          macro avg       0.34      0.09      0.09      1599\n",
      "       weighted avg       0.53      0.47      0.33      1599\n",
      "\n",
      "Accuracy is:   0.46841776110068795\n",
      "Precision is:   0.3420867747064538\n",
      "Recall is:   0.09235616608672335\n"
     ]
    },
    {
     "name": "stderr",
     "output_type": "stream",
     "text": [
      "c:\\Users\\P1\\anaconda3\\envs\\Project1\\lib\\site-packages\\sklearn\\metrics\\_classification.py:1344: UndefinedMetricWarning:\n",
      "\n",
      "Precision is ill-defined and being set to 0.0 in labels with no predicted samples. Use `zero_division` parameter to control this behavior.\n",
      "\n",
      "c:\\Users\\P1\\anaconda3\\envs\\Project1\\lib\\site-packages\\sklearn\\metrics\\_classification.py:1344: UndefinedMetricWarning:\n",
      "\n",
      "Precision and F-score are ill-defined and being set to 0.0 in labels with no predicted samples. Use `zero_division` parameter to control this behavior.\n",
      "\n",
      "c:\\Users\\P1\\anaconda3\\envs\\Project1\\lib\\site-packages\\sklearn\\metrics\\_classification.py:1344: UndefinedMetricWarning:\n",
      "\n",
      "Precision and F-score are ill-defined and being set to 0.0 in labels with no predicted samples. Use `zero_division` parameter to control this behavior.\n",
      "\n",
      "c:\\Users\\P1\\anaconda3\\envs\\Project1\\lib\\site-packages\\sklearn\\metrics\\_classification.py:1344: UndefinedMetricWarning:\n",
      "\n",
      "Precision and F-score are ill-defined and being set to 0.0 in labels with no predicted samples. Use `zero_division` parameter to control this behavior.\n",
      "\n"
     ]
    }
   ],
   "source": [
    "X,y=label(label_model_4)\n",
    "model3_4,cv_scores3_4=model(X,y)"
   ]
  },
  {
   "cell_type": "code",
   "execution_count": 76,
   "metadata": {},
   "outputs": [
    {
     "name": "stdout",
     "output_type": "stream",
     "text": [
      "The actual value is:  العصر الاسلامي\n",
      "The predection value is:  العصر الاسلامي\n",
      "______________________________________\n",
      "\n",
      "The actual value is:  العراق\n",
      "The predection value is:  العراق\n"
     ]
    }
   ],
   "source": [
    "test1_model_3=test_sample_1[0]\n",
    "\n",
    "text=predection_preprocessing(test1_model_3)\n",
    "pred_1=predict_text_class(text,model3_1,model3_2,model3_3,model3_4)\n",
    "\n",
    "print(\"The actual value is:  \"+ test_sample_1[1])\n",
    "print(\"The predection value is:  \"+ pred_1)\n",
    "\n",
    "\n",
    "print(\"______________________________________\\n\")\n",
    "\n",
    "\n",
    "test2_model_3=test_sample_2[0]\n",
    "\n",
    "text=predection_preprocessing(test2_model_3)\n",
    "pred2=predict_text_class(text,model3_1,model3_2,model3_3,model3_4)\n",
    "\n",
    "print(\"The actual value is:  \"+ test_sample_2[1])\n",
    "print(\"The predection value is:  \"+ pred2)"
   ]
  },
  {
   "attachments": {},
   "cell_type": "markdown",
   "metadata": {},
   "source": [
    "### Conclusion \n",
    "After training three different models with different approaches, it turns out that the best model result is Model 2, which uses SMOTE technology.\n",
    "\n",
    "### Future Improvement:\n",
    "The future improvement that could be helpful is using PCA (Principal Component Analysis) , which will enhance the model performance in terms of accuracy and speed of execution."
   ]
  },
  {
   "cell_type": "code",
   "execution_count": 61,
   "metadata": {},
   "outputs": [
    {
     "data": {
      "text/plain": [
       "['random_forest_classifier_final_model.joblib']"
      ]
     },
     "execution_count": 61,
     "metadata": {},
     "output_type": "execute_result"
    }
   ],
   "source": [
    "import joblib\n",
    "\n",
    "# Save the TfidfVectorizer and RandomForestClassifier models\n",
    "joblib.dump(vectorizer, 'tfidf_vectorizer.joblib')\n",
    "joblib.dump(model_2, 'random_forest_classifier_final_model.joblib')"
   ]
  },
  {
   "attachments": {},
   "cell_type": "markdown",
   "metadata": {},
   "source": [
    "### Error Analysis Section"
   ]
  },
  {
   "cell_type": "code",
   "execution_count": 99,
   "metadata": {},
   "outputs": [
    {
     "name": "stdout",
     "output_type": "stream",
     "text": [
      "The actual value is:  السعودية\n",
      "The prediction value is:  العصر العباسي\n",
      "\n",
      "______________________________________\n",
      "\n"
     ]
    }
   ],
   "source": [
    "# قصيدة الأمير عبدالرحمن بن مساعد في سمو ولي العهد الأمير محمد بن سلمان\n",
    "text1='اصعد بعزمك ان المجد متصل وهل تمل صعودا ايها البطل انت المفكر قد نادتك نهضتنا انت المجدد والمامول والامل انت المظفر لا تثنيك معضلة اعداء همتك التقصير والكسل'\n",
    "actual='السعودية'\n",
    "\n",
    "#preproccing\n",
    "text1=predection_preprocessing(text1)\n",
    "text1=vectorizer.transform(text1)\n",
    "\n",
    "\n",
    "pred1=model_2.predict(text1)[0]\n",
    "\n",
    "print(\"The actual value is:  \"+ actual)\n",
    "print(\"The prediction value is:  \"+ pred1)\n",
    "\n",
    "print(\"\\n______________________________________\\n\")\n",
    "\n",
    "\n",
    "\n"
   ]
  },
  {
   "attachments": {},
   "cell_type": "markdown",
   "metadata": {},
   "source": [
    "#### As  we see above the prediction value is  العصر العباسي while The actual value is:  السعودية , that because all of poems that in العصر العباسي are in فصحى"
   ]
  },
  {
   "cell_type": "code",
   "execution_count": null,
   "metadata": {},
   "outputs": [],
   "source": []
  },
  {
   "attachments": {},
   "cell_type": "markdown",
   "metadata": {},
   "source": [
    "## Summary"
   ]
  },
  {
   "attachments": {},
   "cell_type": "markdown",
   "metadata": {},
   "source": [
    "In this project, a classification model built to classify Arabic poetry based on the poet's origin.the prject go thrghuo multiple phases :\n",
    "### Data Cleening\n",
    "- i found that there is duplicated valuse in'poem_text' and there are in incorrect data in 'poem_style'\n",
    "### EDA \n",
    "- In EDA phase i found that the data set actually imbalnced data which will strongly imapact on model pefrmence.\n",
    "### Text Preproccessing: \n",
    "\n",
    "            1- Text_Cleaning:is the process of removing irrelevant and unnecessary information from the raw text data.\n",
    "            2- Normalization: is the process of converting text into a standard or normalized\n",
    "            3- Tokenization: is the process of breaking down text into individual units called tokens. \n",
    "            4- Removing Stop Word: Stop words are common words in the text that do not carry much meaning.\n",
    "            5- Stemming: is the process of reducing words to their base or root form.\n",
    "\n",
    "\n",
    "                        \n",
    "### Model Building and Testing: \n",
    "\n",
    "- Model1: Training the model without additional preprocessing such as undersampling and oversampling.\n",
    "- Model2 Using SMOTE (Synthetic Minority Over-sampling Technique) which is a commonly used oversampling method for dealing with imbalanced datasets in machine learning.\n",
    "- Model3 is one of the methodologies for dealing with imbalanced data by dividing the dataset into sub data and then deploy it into submodels."
   ]
  },
  {
   "cell_type": "markdown",
   "metadata": {},
   "source": []
  }
 ],
 "metadata": {
  "kernelspec": {
   "display_name": "Plant",
   "language": "python",
   "name": "python3"
  },
  "language_info": {
   "codemirror_mode": {
    "name": "ipython",
    "version": 3
   },
   "file_extension": ".py",
   "mimetype": "text/x-python",
   "name": "python",
   "nbconvert_exporter": "python",
   "pygments_lexer": "ipython3",
   "version": "3.9.16"
  },
  "orig_nbformat": 4,
  "vscode": {
   "interpreter": {
    "hash": "4aeb7a265a5d7189069d70d814cfac94d5c4e52759f47ec194a7bd919ba5a094"
   }
  }
 },
 "nbformat": 4,
 "nbformat_minor": 2
}
